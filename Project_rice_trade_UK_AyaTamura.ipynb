{
 "cells": [
  {
   "cell_type": "markdown",
   "metadata": {},
   "source": [
    "# Project : Exploring the UK's rice imports and exports\n",
    "\n",
    "by Aya Tamura, 25 November, 2023\n",
    "\n",
    "As an Asian living in the United Kingdom, I often eat rice and appreciate the availability of variety of rice in shops. According to [the Rice Association]('https://www.riceassociation.org.uk/rice-in-the-uk'), rice is not grown in the UK. I wonder where rice comes from to the UK. Is rice cultivated domestically within the UK, or is it solely imported from abroad? In this project, I aim to conduct research on the locales where rice comes from using available data."
   ]
  },
  {
   "cell_type": "markdown",
   "metadata": {},
   "source": [
    "# Getting Data\n",
    "\n",
    "The United Nations (UN) Comtrade database have wide range of global trade data. It shall be leveraged to analyze the UK's rice imports and exports:\n",
    "\n",
    "- What quantities of rice does the UK export and import, and does a positive balance exist (exports surpassing imports)?\n",
    "- Which countries constitute the primary trading partners, i.e. from which nations does the UK import most rice, and to which countries are the greatest exports bound?\n",
    "- Which countries reliably purchase rice from the UK on a monthly basis - the consistent clients?\n",
    "- Regarding rice, which countries does the UK both import from and export to?\n",
    "\n",
    "I aim to conduct a judicious study of the UK rice trade sector utilizing UN Comtrade in 2022.\n",
    "The data is obtained from the [United Nations Comtrade](http://comtrade.un.org/data/) website, by selecting the following configuration:\n",
    "\n",
    "- Type of Product: goods\n",
    "- Frequency: Monthly \n",
    "- Periods: All of 2022\n",
    "- Reporter: United Kingdom\n",
    "- Partners: All\n",
    "- Flows: imports and exports\n",
    "- HS (as reported) commodity codes: 100610, 100620, 100630, 100640"
   ]
  },
  {
   "cell_type": "code",
   "execution_count": 729,
   "metadata": {
    "activity": false,
    "collapsed": true
   },
   "outputs": [],
   "source": [
    "# Importing the libraries \n",
    "import pandas as pd\n",
    "import matplotlib.pyplot as plt"
   ]
  },
  {
   "cell_type": "code",
   "execution_count": 730,
   "metadata": {
    "collapsed": true
   },
   "outputs": [],
   "source": [
    "# Assign a file location of the CSV data\n",
    "LOCATION = 'comtrade_rice_monthly_22.csv'"
   ]
  },
  {
   "cell_type": "markdown",
   "metadata": {},
   "source": [
    "The downloaded file is saved using a file encoding (*Latin-1*). As Pandas does not recognise this by default, resulting in `UnicodeDecodeError`.　Hence, reading a file with `encoding = \"Latin-1\"` should fix the problem."
   ]
  },
  {
   "cell_type": "code",
   "execution_count": 731,
   "metadata": {
    "activity": false
   },
   "outputs": [
    {
     "data": {
      "text/html": [
       "<div>\n",
       "<style scoped>\n",
       "    .dataframe tbody tr th:only-of-type {\n",
       "        vertical-align: middle;\n",
       "    }\n",
       "\n",
       "    .dataframe tbody tr th {\n",
       "        vertical-align: top;\n",
       "    }\n",
       "\n",
       "    .dataframe thead th {\n",
       "        text-align: right;\n",
       "    }\n",
       "</style>\n",
       "<table border=\"1\" class=\"dataframe\">\n",
       "  <thead>\n",
       "    <tr style=\"text-align: right;\">\n",
       "      <th></th>\n",
       "      <th>TypeCode</th>\n",
       "      <th>FreqCode</th>\n",
       "      <th>RefPeriodId</th>\n",
       "      <th>RefYear</th>\n",
       "      <th>RefMonth</th>\n",
       "      <th>Period</th>\n",
       "      <th>ReporterCode</th>\n",
       "      <th>ReporterISO</th>\n",
       "      <th>ReporterDesc</th>\n",
       "      <th>FlowCode</th>\n",
       "      <th>...</th>\n",
       "      <th>IsNetWgtEstimated</th>\n",
       "      <th>GrossWgt</th>\n",
       "      <th>IsGrossWgtEstimated</th>\n",
       "      <th>Cifvalue</th>\n",
       "      <th>Fobvalue</th>\n",
       "      <th>PrimaryValue</th>\n",
       "      <th>LegacyEstimationFlag</th>\n",
       "      <th>IsReported</th>\n",
       "      <th>IsAggregate</th>\n",
       "      <th>Unnamed: 47</th>\n",
       "    </tr>\n",
       "  </thead>\n",
       "  <tbody>\n",
       "    <tr>\n",
       "      <th>0</th>\n",
       "      <td>C</td>\n",
       "      <td>M</td>\n",
       "      <td>20220101</td>\n",
       "      <td>2022</td>\n",
       "      <td>1</td>\n",
       "      <td>202201</td>\n",
       "      <td>826</td>\n",
       "      <td>GBR</td>\n",
       "      <td>United Kingdom</td>\n",
       "      <td>M</td>\n",
       "      <td>...</td>\n",
       "      <td>False</td>\n",
       "      <td>0</td>\n",
       "      <td>False</td>\n",
       "      <td>44525.184</td>\n",
       "      <td>NaN</td>\n",
       "      <td>44525.184</td>\n",
       "      <td>0</td>\n",
       "      <td>False</td>\n",
       "      <td>True</td>\n",
       "      <td>NaN</td>\n",
       "    </tr>\n",
       "    <tr>\n",
       "      <th>1</th>\n",
       "      <td>C</td>\n",
       "      <td>M</td>\n",
       "      <td>20220101</td>\n",
       "      <td>2022</td>\n",
       "      <td>1</td>\n",
       "      <td>202201</td>\n",
       "      <td>826</td>\n",
       "      <td>GBR</td>\n",
       "      <td>United Kingdom</td>\n",
       "      <td>M</td>\n",
       "      <td>...</td>\n",
       "      <td>False</td>\n",
       "      <td>0</td>\n",
       "      <td>False</td>\n",
       "      <td>8479.117</td>\n",
       "      <td>NaN</td>\n",
       "      <td>8479.117</td>\n",
       "      <td>0</td>\n",
       "      <td>False</td>\n",
       "      <td>True</td>\n",
       "      <td>NaN</td>\n",
       "    </tr>\n",
       "    <tr>\n",
       "      <th>2</th>\n",
       "      <td>C</td>\n",
       "      <td>M</td>\n",
       "      <td>20220101</td>\n",
       "      <td>2022</td>\n",
       "      <td>1</td>\n",
       "      <td>202201</td>\n",
       "      <td>826</td>\n",
       "      <td>GBR</td>\n",
       "      <td>United Kingdom</td>\n",
       "      <td>M</td>\n",
       "      <td>...</td>\n",
       "      <td>False</td>\n",
       "      <td>0</td>\n",
       "      <td>False</td>\n",
       "      <td>2400.542</td>\n",
       "      <td>NaN</td>\n",
       "      <td>2400.542</td>\n",
       "      <td>0</td>\n",
       "      <td>False</td>\n",
       "      <td>True</td>\n",
       "      <td>NaN</td>\n",
       "    </tr>\n",
       "  </tbody>\n",
       "</table>\n",
       "<p>3 rows × 48 columns</p>\n",
       "</div>"
      ],
      "text/plain": [
       "  TypeCode FreqCode  RefPeriodId  RefYear  RefMonth  Period  ReporterCode  \\\n",
       "0        C        M     20220101     2022         1  202201           826   \n",
       "1        C        M     20220101     2022         1  202201           826   \n",
       "2        C        M     20220101     2022         1  202201           826   \n",
       "\n",
       "  ReporterISO    ReporterDesc FlowCode  ... IsNetWgtEstimated  GrossWgt  \\\n",
       "0         GBR  United Kingdom        M  ...             False         0   \n",
       "1         GBR  United Kingdom        M  ...             False         0   \n",
       "2         GBR  United Kingdom        M  ...             False         0   \n",
       "\n",
       "  IsGrossWgtEstimated   Cifvalue  Fobvalue PrimaryValue LegacyEstimationFlag  \\\n",
       "0               False  44525.184       NaN    44525.184                    0   \n",
       "1               False   8479.117       NaN     8479.117                    0   \n",
       "2               False   2400.542       NaN     2400.542                    0   \n",
       "\n",
       "  IsReported IsAggregate  Unnamed: 47  \n",
       "0      False        True          NaN  \n",
       "1      False        True          NaN  \n",
       "2      False        True          NaN  \n",
       "\n",
       "[3 rows x 48 columns]"
      ]
     },
     "execution_count": 731,
     "metadata": {},
     "output_type": "execute_result"
    }
   ],
   "source": [
    "# Read the CSV data with latin-1 encoding and diaplay\n",
    "rice = pd.read_csv(LOCATION, encoding='latin-1')\n",
    "rice.head(3)"
   ]
  },
  {
   "cell_type": "code",
   "execution_count": 732,
   "metadata": {},
   "outputs": [
    {
     "data": {
      "text/html": [
       "<div>\n",
       "<style scoped>\n",
       "    .dataframe tbody tr th:only-of-type {\n",
       "        vertical-align: middle;\n",
       "    }\n",
       "\n",
       "    .dataframe tbody tr th {\n",
       "        vertical-align: top;\n",
       "    }\n",
       "\n",
       "    .dataframe thead th {\n",
       "        text-align: right;\n",
       "    }\n",
       "</style>\n",
       "<table border=\"1\" class=\"dataframe\">\n",
       "  <thead>\n",
       "    <tr style=\"text-align: right;\">\n",
       "      <th></th>\n",
       "      <th>TypeCode</th>\n",
       "      <th>FreqCode</th>\n",
       "      <th>RefPeriodId</th>\n",
       "      <th>RefYear</th>\n",
       "      <th>RefMonth</th>\n",
       "      <th>Period</th>\n",
       "      <th>ReporterCode</th>\n",
       "      <th>ReporterISO</th>\n",
       "      <th>ReporterDesc</th>\n",
       "      <th>FlowCode</th>\n",
       "      <th>...</th>\n",
       "      <th>IsNetWgtEstimated</th>\n",
       "      <th>GrossWgt</th>\n",
       "      <th>IsGrossWgtEstimated</th>\n",
       "      <th>Cifvalue</th>\n",
       "      <th>Fobvalue</th>\n",
       "      <th>PrimaryValue</th>\n",
       "      <th>LegacyEstimationFlag</th>\n",
       "      <th>IsReported</th>\n",
       "      <th>IsAggregate</th>\n",
       "      <th>Unnamed: 47</th>\n",
       "    </tr>\n",
       "  </thead>\n",
       "  <tbody>\n",
       "    <tr>\n",
       "      <th>1549</th>\n",
       "      <td>C</td>\n",
       "      <td>M</td>\n",
       "      <td>20221201</td>\n",
       "      <td>2022</td>\n",
       "      <td>12</td>\n",
       "      <td>202212</td>\n",
       "      <td>826</td>\n",
       "      <td>GBR</td>\n",
       "      <td>United Kingdom</td>\n",
       "      <td>X</td>\n",
       "      <td>...</td>\n",
       "      <td>False</td>\n",
       "      <td>0</td>\n",
       "      <td>False</td>\n",
       "      <td>NaN</td>\n",
       "      <td>864.276</td>\n",
       "      <td>864.276</td>\n",
       "      <td>0</td>\n",
       "      <td>False</td>\n",
       "      <td>True</td>\n",
       "      <td>NaN</td>\n",
       "    </tr>\n",
       "    <tr>\n",
       "      <th>1550</th>\n",
       "      <td>C</td>\n",
       "      <td>M</td>\n",
       "      <td>20221201</td>\n",
       "      <td>2022</td>\n",
       "      <td>12</td>\n",
       "      <td>202212</td>\n",
       "      <td>826</td>\n",
       "      <td>GBR</td>\n",
       "      <td>United Kingdom</td>\n",
       "      <td>X</td>\n",
       "      <td>...</td>\n",
       "      <td>False</td>\n",
       "      <td>0</td>\n",
       "      <td>False</td>\n",
       "      <td>NaN</td>\n",
       "      <td>33998.535</td>\n",
       "      <td>33998.535</td>\n",
       "      <td>0</td>\n",
       "      <td>False</td>\n",
       "      <td>True</td>\n",
       "      <td>NaN</td>\n",
       "    </tr>\n",
       "    <tr>\n",
       "      <th>1551</th>\n",
       "      <td>C</td>\n",
       "      <td>M</td>\n",
       "      <td>20221201</td>\n",
       "      <td>2022</td>\n",
       "      <td>12</td>\n",
       "      <td>202212</td>\n",
       "      <td>826</td>\n",
       "      <td>GBR</td>\n",
       "      <td>United Kingdom</td>\n",
       "      <td>X</td>\n",
       "      <td>...</td>\n",
       "      <td>False</td>\n",
       "      <td>0</td>\n",
       "      <td>False</td>\n",
       "      <td>NaN</td>\n",
       "      <td>290.534</td>\n",
       "      <td>290.534</td>\n",
       "      <td>0</td>\n",
       "      <td>False</td>\n",
       "      <td>True</td>\n",
       "      <td>NaN</td>\n",
       "    </tr>\n",
       "  </tbody>\n",
       "</table>\n",
       "<p>3 rows × 48 columns</p>\n",
       "</div>"
      ],
      "text/plain": [
       "     TypeCode FreqCode  RefPeriodId  RefYear  RefMonth  Period  ReporterCode  \\\n",
       "1549        C        M     20221201     2022        12  202212           826   \n",
       "1550        C        M     20221201     2022        12  202212           826   \n",
       "1551        C        M     20221201     2022        12  202212           826   \n",
       "\n",
       "     ReporterISO    ReporterDesc FlowCode  ... IsNetWgtEstimated  GrossWgt  \\\n",
       "1549         GBR  United Kingdom        X  ...             False         0   \n",
       "1550         GBR  United Kingdom        X  ...             False         0   \n",
       "1551         GBR  United Kingdom        X  ...             False         0   \n",
       "\n",
       "     IsGrossWgtEstimated Cifvalue   Fobvalue PrimaryValue  \\\n",
       "1549               False      NaN    864.276      864.276   \n",
       "1550               False      NaN  33998.535    33998.535   \n",
       "1551               False      NaN    290.534      290.534   \n",
       "\n",
       "     LegacyEstimationFlag IsReported IsAggregate  Unnamed: 47  \n",
       "1549                    0      False        True          NaN  \n",
       "1550                    0      False        True          NaN  \n",
       "1551                    0      False        True          NaN  \n",
       "\n",
       "[3 rows x 48 columns]"
      ]
     },
     "execution_count": 732,
     "metadata": {},
     "output_type": "execute_result"
    }
   ],
   "source": [
    "rice.tail(3)"
   ]
  },
  {
   "cell_type": "markdown",
   "metadata": {},
   "source": [
    "The data covers the whole 12 months of 2022."
   ]
  },
  {
   "cell_type": "code",
   "execution_count": 733,
   "metadata": {},
   "outputs": [
    {
     "data": {
      "text/plain": [
       "Index(['TypeCode', 'FreqCode', 'RefPeriodId', 'RefYear', 'RefMonth', 'Period',\n",
       "       'ReporterCode', 'ReporterISO', 'ReporterDesc', 'FlowCode', 'FlowDesc',\n",
       "       'PartnerCode', 'PartnerISO', 'PartnerDesc', 'Partner2Code',\n",
       "       'Partner2ISO', 'Partner2Desc', 'ClassificationCode',\n",
       "       'ClassificationSearchCode', 'IsOriginalClassification', 'CmdCode',\n",
       "       'CmdDesc', 'AggrLevel', 'IsLeaf', 'CustomsCode', 'CustomsDesc',\n",
       "       'MosCode', 'MotCode', 'MotDesc', 'QtyUnitCode', 'QtyUnitAbbr', 'Qty',\n",
       "       'IsQtyEstimated', 'AltQtyUnitCode', 'AltQtyUnitAbbr', 'AtlQty',\n",
       "       'IsAltQtyEstimated', 'NetWgt', 'IsNetWgtEstimated', 'GrossWgt',\n",
       "       'IsGrossWgtEstimated', 'Cifvalue', 'Fobvalue', 'PrimaryValue',\n",
       "       'LegacyEstimationFlag', 'IsReported', 'IsAggregate', 'Unnamed: 47'],\n",
       "      dtype='object')"
      ]
     },
     "execution_count": 733,
     "metadata": {},
     "output_type": "execute_result"
    }
   ],
   "source": [
    "# Check column names in the dataframe\n",
    "rice.columns"
   ]
  },
  {
   "cell_type": "code",
   "execution_count": 734,
   "metadata": {},
   "outputs": [
    {
     "data": {
      "text/plain": [
       "CmdDesc\n",
       "Cereals; rice, semi-milled or wholly milled, whether or not polished or glazed    748\n",
       "Cereals; husked (brown) rice                                                      382\n",
       "Cereals; rice, broken                                                             294\n",
       "Cereals; rice in the husk (paddy or rough)                                        128\n",
       "Name: count, dtype: int64"
      ]
     },
     "execution_count": 734,
     "metadata": {},
     "output_type": "execute_result"
    }
   ],
   "source": [
    "# Compute the frequency count of unique values in the 'CmdDesc'\n",
    "rice.value_counts('CmdDesc')"
   ]
  },
  {
   "cell_type": "markdown",
   "metadata": {},
   "source": [
    "Drop columns that are irrelevant for this analysis. Also, the commodity code is transformed into a short but descriptive text."
   ]
  },
  {
   "cell_type": "code",
   "execution_count": 735,
   "metadata": {
    "activity": false
   },
   "outputs": [
    {
     "data": {
      "text/html": [
       "<div>\n",
       "<style scoped>\n",
       "    .dataframe tbody tr th:only-of-type {\n",
       "        vertical-align: middle;\n",
       "    }\n",
       "\n",
       "    .dataframe tbody tr th {\n",
       "        vertical-align: top;\n",
       "    }\n",
       "\n",
       "    .dataframe thead th {\n",
       "        text-align: right;\n",
       "    }\n",
       "</style>\n",
       "<table border=\"1\" class=\"dataframe\">\n",
       "  <thead>\n",
       "    <tr style=\"text-align: right;\">\n",
       "      <th></th>\n",
       "      <th>Period</th>\n",
       "      <th>PartnerDesc</th>\n",
       "      <th>FlowDesc</th>\n",
       "      <th>RiceType</th>\n",
       "      <th>PrimaryValue</th>\n",
       "    </tr>\n",
       "  </thead>\n",
       "  <tbody>\n",
       "    <tr>\n",
       "      <th>0</th>\n",
       "      <td>202201</td>\n",
       "      <td>World</td>\n",
       "      <td>Import</td>\n",
       "      <td>rough</td>\n",
       "      <td>44525.184</td>\n",
       "    </tr>\n",
       "    <tr>\n",
       "      <th>1</th>\n",
       "      <td>202201</td>\n",
       "      <td>Bangladesh</td>\n",
       "      <td>Import</td>\n",
       "      <td>rough</td>\n",
       "      <td>8479.117</td>\n",
       "    </tr>\n",
       "    <tr>\n",
       "      <th>2</th>\n",
       "      <td>202201</td>\n",
       "      <td>Iran</td>\n",
       "      <td>Import</td>\n",
       "      <td>rough</td>\n",
       "      <td>2400.542</td>\n",
       "    </tr>\n",
       "  </tbody>\n",
       "</table>\n",
       "</div>"
      ],
      "text/plain": [
       "   Period PartnerDesc FlowDesc RiceType  PrimaryValue\n",
       "0  202201       World   Import    rough     44525.184\n",
       "1  202201  Bangladesh   Import    rough      8479.117\n",
       "2  202201        Iran   Import    rough      2400.542"
      ]
     },
     "execution_count": 735,
     "metadata": {},
     "output_type": "execute_result"
    }
   ],
   "source": [
    "# Define a function that takes a code as input and returns a corresponding rice type\n",
    "def riceType(code):\n",
    "    if code == 100610: # Cereals; rice in the husk (paddy or rough)\n",
    "        return 'rough' \n",
    "    if code == 100620: # Cereals; husked (brown) rice\n",
    "        return 'brown'\n",
    "    if code == 100630: # Cereals; rice, semi-milled or wholly milled, whether or not polished or glazed\n",
    "        return 'milled'\n",
    "    if code == 100640: # Cereals; rice, broken\n",
    "        return 'broken'\n",
    "    return 'unknown'\n",
    "\n",
    "COMMODITY = 'RiceType'\n",
    "rice[COMMODITY] = rice['CmdCode'].apply(riceType)\n",
    "MONTH = 'Period'\n",
    "PARTNER = 'PartnerDesc'\n",
    "FLOW = 'FlowDesc'\n",
    "VALUE = 'PrimaryValue'\n",
    "\n",
    "# Selecting columns\n",
    "headings = [MONTH, PARTNER, FLOW, COMMODITY, VALUE]\n",
    "rice = rice[headings]\n",
    "rice.head(3)"
   ]
  },
  {
   "cell_type": "markdown",
   "metadata": {},
   "source": [
    "The data contains the total imports and exports per month, under the 'World' partner. Those rows are removed to keep only the per-country data."
   ]
  },
  {
   "cell_type": "code",
   "execution_count": 736,
   "metadata": {
    "activity": false
   },
   "outputs": [
    {
     "data": {
      "text/html": [
       "<div>\n",
       "<style scoped>\n",
       "    .dataframe tbody tr th:only-of-type {\n",
       "        vertical-align: middle;\n",
       "    }\n",
       "\n",
       "    .dataframe tbody tr th {\n",
       "        vertical-align: top;\n",
       "    }\n",
       "\n",
       "    .dataframe thead th {\n",
       "        text-align: right;\n",
       "    }\n",
       "</style>\n",
       "<table border=\"1\" class=\"dataframe\">\n",
       "  <thead>\n",
       "    <tr style=\"text-align: right;\">\n",
       "      <th></th>\n",
       "      <th>Period</th>\n",
       "      <th>PartnerDesc</th>\n",
       "      <th>FlowDesc</th>\n",
       "      <th>RiceType</th>\n",
       "      <th>PrimaryValue</th>\n",
       "    </tr>\n",
       "  </thead>\n",
       "  <tbody>\n",
       "    <tr>\n",
       "      <th>1</th>\n",
       "      <td>202201</td>\n",
       "      <td>Bangladesh</td>\n",
       "      <td>Import</td>\n",
       "      <td>rough</td>\n",
       "      <td>8479.117</td>\n",
       "    </tr>\n",
       "    <tr>\n",
       "      <th>2</th>\n",
       "      <td>202201</td>\n",
       "      <td>Iran</td>\n",
       "      <td>Import</td>\n",
       "      <td>rough</td>\n",
       "      <td>2400.542</td>\n",
       "    </tr>\n",
       "    <tr>\n",
       "      <th>3</th>\n",
       "      <td>202201</td>\n",
       "      <td>Ireland</td>\n",
       "      <td>Import</td>\n",
       "      <td>rough</td>\n",
       "      <td>32479.122</td>\n",
       "    </tr>\n",
       "  </tbody>\n",
       "</table>\n",
       "</div>"
      ],
      "text/plain": [
       "   Period PartnerDesc FlowDesc RiceType  PrimaryValue\n",
       "1  202201  Bangladesh   Import    rough      8479.117\n",
       "2  202201        Iran   Import    rough      2400.542\n",
       "3  202201     Ireland   Import    rough     32479.122"
      ]
     },
     "execution_count": 736,
     "metadata": {},
     "output_type": "execute_result"
    }
   ],
   "source": [
    "# Removing irrelevant data\n",
    "rice = rice[rice[PARTNER] != 'World']\n",
    "rice.head(3)"
   ]
  },
  {
   "cell_type": "markdown",
   "metadata": {},
   "source": [
    "## Total trade flow\n",
    "\n",
    "To answer the first question, 'How much does the UK export and import and is the balance positive (more exports than imports)?',\n",
    "the dataframe is split into two groups: exports from the UK and imports into the UK. The  trade values within each group are summed up to get the total trading."
   ]
  },
  {
   "cell_type": "code",
   "execution_count": 737,
   "metadata": {},
   "outputs": [],
   "source": [
    "# Rounds the given value to the nearest thousand\n",
    "def roundToThousands (value):\n",
    "    return round(value / 1000)"
   ]
  },
  {
   "cell_type": "code",
   "execution_count": 738,
   "metadata": {
    "activity": false
   },
   "outputs": [
    {
     "data": {
      "text/plain": [
       "FlowDesc\n",
       "Export     56988\n",
       "Import    604831\n",
       "Name: PrimaryValue, dtype: int64"
      ]
     },
     "execution_count": 738,
     "metadata": {},
     "output_type": "execute_result"
    }
   ],
   "source": [
    "# Group the data by FLOW (import or export) and aggregate the values\n",
    "grouped = rice.groupby([FLOW])\n",
    "grouped[VALUE].aggregate(sum).apply(roundToThousands)"
   ]
  },
  {
   "cell_type": "code",
   "execution_count": 739,
   "metadata": {},
   "outputs": [
    {
     "data": {
      "text/plain": [
       "<Axes: ylabel='FlowDesc'>"
      ]
     },
     "execution_count": 739,
     "metadata": {},
     "output_type": "execute_result"
    },
    {
     "data": {
      "image/png": "[encoded data removed]",
      "text/plain": [
       "<Figure size 640x480 with 1 Axes>"
      ]
     },
     "metadata": {},
     "output_type": "display_data"
    }
   ],
   "source": [
    "# Plot the aggregated values \n",
    "grouped[VALUE].aggregate(sum).plot(kind='barh')"
   ]
  },
  {
   "cell_type": "code",
   "execution_count": 740,
   "metadata": {},
   "outputs": [
    {
     "data": {
      "text/plain": [
       "<Axes: ylabel='FlowDesc,RiceType'>"
      ]
     },
     "execution_count": 740,
     "metadata": {},
     "output_type": "execute_result"
    },
    {
     "data": {
      "image/png": "[encoded data removed]",
      "text/plain": [
       "<Figure size 640x480 with 1 Axes>"
      ]
     },
     "metadata": {},
     "output_type": "display_data"
    }
   ],
   "source": [
    "# Group the data by rice type as well as trade flow and plot the aggregate values\n",
    "riceType = rice.groupby([FLOW, COMMODITY])\n",
    "riceType[VALUE].aggregate(sum).plot(kind='barh')"
   ]
  },
  {
   "cell_type": "markdown",
   "metadata": {},
   "source": [
    "The above bar charts show that imports exceed exports, indicating the UK has a rice trade deficit, with its trade balance being negative by approximately 550 thousand US dollars ( 604831-56988). \n",
    "\n",
    "Among imported rice, milled and brown rice make up the majority, but only milled rice comprises the majority of exports."
   ]
  },
  {
   "cell_type": "markdown",
   "metadata": {},
   "source": [
    "## Main trade partners\n",
    "\n",
    "To address the second question, 'Which are the main trading partners, i.e. from/to which countries does the UK import/export the most?', the dataframe is split by country instead, and then each group aggregated for the total trade value. This is done separately for imports and exports. The result is sorted in descending order so that the main partners are at the top."
   ]
  },
  {
   "cell_type": "code",
   "execution_count": 741,
   "metadata": {
    "activity": false
   },
   "outputs": [
    {
     "name": "stdout",
     "output_type": "stream",
     "text": [
      "The UK imports from 55 countries.\n",
      "The 5 biggest exporters to the UK are:\n"
     ]
    },
    {
     "data": {
      "text/plain": [
       "PartnerDesc\n",
       "India        161635\n",
       "Pakistan     100425\n",
       "Italy         82486\n",
       "Spain         50999\n",
       "Uruguay       40660\n",
       "Thailand      36141\n",
       "Myanmar       33765\n",
       "USA           18978\n",
       "Cambodia      15703\n",
       "Argentina     15538\n",
       "Name: PrimaryValue, dtype: int64"
      ]
     },
     "execution_count": 741,
     "metadata": {},
     "output_type": "execute_result"
    }
   ],
   "source": [
    "# Create a new dataframe 'imports'\n",
    "imports = rice[rice[FLOW] == 'Import']\n",
    "# Group the 'imports' dataframe by the 'PARTNER' column\n",
    "grouped = imports.groupby([PARTNER])\n",
    "print('The UK imports from', len(grouped), 'countries.')\n",
    "print('The 5 biggest exporters to the UK are:')\n",
    "# Calculate the total imports from each country, sort them in descending order, and round the values to thousands\n",
    "totalImports = grouped[VALUE].aggregate(sum).sort_values(ascending=False).apply(roundToThousands)\n",
    "totalImports.head(10)"
   ]
  },
  {
   "cell_type": "markdown",
   "metadata": {},
   "source": [
    "The export values can be plotted as a bar chart, making differences between countries easier to see."
   ]
  },
  {
   "cell_type": "code",
   "execution_count": 742,
   "metadata": {},
   "outputs": [
    {
     "data": {
      "image/png": "[encoded data removed]",
      "text/plain": [
       "<Figure size 640x480 with 1 Axes>"
      ]
     },
     "metadata": {},
     "output_type": "display_data"
    }
   ],
   "source": [
    "# Plot a bar chart\n",
    "totalImports.head(10).plot(kind='barh')\n",
    "plt.xlabel(\"Import Value (USD in thousands)\")\n",
    "plt.ylabel(\"Countries\")\n",
    "plt.title(\"UK's Top 10 Import Partners for Rice\")\n",
    "plt.show()"
   ]
  },
  {
   "cell_type": "code",
   "execution_count": 743,
   "metadata": {
    "activity": false
   },
   "outputs": [
    {
     "name": "stdout",
     "output_type": "stream",
     "text": [
      "The UK exports to 66 countries.\n",
      "The 5 biggest importers from the UK are:\n"
     ]
    },
    {
     "data": {
      "text/plain": [
       "PartnerDesc\n",
       "Ireland        13161\n",
       "Netherlands    12082\n",
       "France         11577\n",
       "Germany         4919\n",
       "Areas, nes      3327\n",
       "Italy           2746\n",
       "Belgium         1640\n",
       "Malta            860\n",
       "Sweden           833\n",
       "Iceland          818\n",
       "Name: PrimaryValue, dtype: int64"
      ]
     },
     "execution_count": 743,
     "metadata": {},
     "output_type": "execute_result"
    }
   ],
   "source": [
    "# Create a new DataFrame 'exports'\n",
    "exports = rice[rice[FLOW] == 'Export']\n",
    "# Group the 'exports' dataframe by the 'PARTNER' column\n",
    "grouped = exports.groupby([PARTNER])\n",
    "print('The UK exports to', len(grouped), 'countries.')\n",
    "print('The 5 biggest importers from the UK are:')\n",
    "# Calculate the total exports from each country, sort them in descending order, and round the values to thousands\n",
    "totalExports = grouped[VALUE].aggregate(sum).sort_values(ascending=False,inplace=False).apply(roundToThousands)\n",
    "totalExports.head(10)"
   ]
  },
  {
   "cell_type": "code",
   "execution_count": 744,
   "metadata": {},
   "outputs": [
    {
     "data": {
      "image/png": "[encoded data removed]",
      "text/plain": [
       "<Figure size 640x480 with 1 Axes>"
      ]
     },
     "metadata": {},
     "output_type": "display_data"
    }
   ],
   "source": [
    "# Plot a bar chart\n",
    "totalExports.head(10).plot(kind='barh')\n",
    "plt.xlabel(\"Export Value (USD in thousands)\")\n",
    "plt.ylabel(\"Countries\")\n",
    "plt.title(\"UK's Top 10 Export Partners for Rice\")\n",
    "plt.show()"
   ]
  },
  {
   "cell_type": "markdown",
   "metadata": {},
   "source": [
    "Out of my curiosity, I would like to investigate whether there are any seasonal trends in import behavior, with a focus on the major rice types of 'milled' and 'brown'."
   ]
  },
  {
   "cell_type": "code",
   "execution_count": 745,
   "metadata": {},
   "outputs": [],
   "source": [
    "# Filter the 'imports' DataFrame to select rows where the 'COMMODITY' column is 'milled'/'brown'\n",
    "milled = imports[imports[COMMODITY]== 'milled']\n",
    "brown = imports[imports[COMMODITY]== 'brown']"
   ]
  },
  {
   "cell_type": "code",
   "execution_count": 746,
   "metadata": {},
   "outputs": [
    {
     "data": {
      "image/png": "[encoded data removed]",
      "text/plain": [
       "<Figure size 640x480 with 1 Axes>"
      ]
     },
     "metadata": {},
     "output_type": "display_data"
    }
   ],
   "source": [
    "# Group the data in the 'milled' DataFrame by the 'MONTH' column and calculate the sum of the 'VALUE' column for each month\n",
    "milled.groupby([MONTH])[VALUE].aggregate(sum).plot(kind='barh')\n",
    "plt.xlabel(\"Import Value (USD in thousands) of Milled Rice\")\n",
    "plt.ylabel(\"Month in 2022\")\n",
    "plt.title(\"Seasonal Trend in Importing Milled Rice\")\n",
    "plt.show()"
   ]
  },
  {
   "cell_type": "code",
   "execution_count": 747,
   "metadata": {},
   "outputs": [
    {
     "data": {
      "image/png": "[encoded data removed]",
      "text/plain": [
       "<Figure size 640x480 with 1 Axes>"
      ]
     },
     "metadata": {},
     "output_type": "display_data"
    }
   ],
   "source": [
    "# Group the data in the 'brown' DataFrame by the 'MONTH' column and calculate the sum of the 'VALUE' column for each month\n",
    "brown.groupby([MONTH])[VALUE].aggregate(sum).plot(kind='barh')\n",
    "plt.xlabel(\"Import Value (USD in thousands) of Brown Rice\")\n",
    "plt.ylabel(\"Month in 2022\")\n",
    "plt.title(\"Seasonal Trend in Importing Brown Rice\")\n",
    "plt.show()"
   ]
  },
  {
   "cell_type": "markdown",
   "metadata": {},
   "source": [
    "For milled rice, the largest single monthly trade flow in 2022 appears to have occurred in March (202203), and the weakest month was September (202209). For brown rice, May and July saw the highest import values, while October had the weakest import values. There appears to be a trend of decreasing import values around September and October for both milled and brown rice. "
   ]
  },
  {
   "cell_type": "markdown",
   "metadata": {},
   "source": [
    "## Regular partners\n",
    "\n",
    "Let us return to the third question, \"Which are the regular customers, i.e. which countries buy rice from the UK and sell to the UK every month?\" Here, a \"regular customer\" is meant to indicate a country that imports both commodities every month.\n",
    "\n",
    "To identify these countries, we can group the import/exports dataframe by country. Import and export data would need to have more than 24 and 12 rows, since there were two and one major kinds of rice (milled and brown or milled only) recorded each month over the course of a year (12 months) respectively.\n",
    "\n",
    "To see the countries that qualify as regular customers, it would suffice to list only the first month's data for one commodity - as by our definition, the same countries would appear month-over-month and for the other commodity type as well."
   ]
  },
  {
   "cell_type": "code",
   "execution_count": 748,
   "metadata": {},
   "outputs": [
    {
     "data": {
      "text/html": [
       "<div>\n",
       "<style scoped>\n",
       "    .dataframe tbody tr th:only-of-type {\n",
       "        vertical-align: middle;\n",
       "    }\n",
       "\n",
       "    .dataframe tbody tr th {\n",
       "        vertical-align: top;\n",
       "    }\n",
       "\n",
       "    .dataframe thead th {\n",
       "        text-align: right;\n",
       "    }\n",
       "</style>\n",
       "<table border=\"1\" class=\"dataframe\">\n",
       "  <thead>\n",
       "    <tr style=\"text-align: right;\">\n",
       "      <th></th>\n",
       "      <th>Period</th>\n",
       "      <th>PartnerDesc</th>\n",
       "      <th>FlowDesc</th>\n",
       "      <th>RiceType</th>\n",
       "      <th>PrimaryValue</th>\n",
       "    </tr>\n",
       "  </thead>\n",
       "  <tbody>\n",
       "    <tr>\n",
       "      <th>807</th>\n",
       "      <td>202207</td>\n",
       "      <td>India</td>\n",
       "      <td>Import</td>\n",
       "      <td>brown</td>\n",
       "      <td>2.061330e+07</td>\n",
       "    </tr>\n",
       "    <tr>\n",
       "      <th>1322</th>\n",
       "      <td>202211</td>\n",
       "      <td>India</td>\n",
       "      <td>Import</td>\n",
       "      <td>brown</td>\n",
       "      <td>1.961395e+07</td>\n",
       "    </tr>\n",
       "    <tr>\n",
       "      <th>1444</th>\n",
       "      <td>202212</td>\n",
       "      <td>India</td>\n",
       "      <td>Import</td>\n",
       "      <td>brown</td>\n",
       "      <td>1.205263e+07</td>\n",
       "    </tr>\n",
       "    <tr>\n",
       "      <th>399</th>\n",
       "      <td>202204</td>\n",
       "      <td>Pakistan</td>\n",
       "      <td>Import</td>\n",
       "      <td>brown</td>\n",
       "      <td>1.038058e+07</td>\n",
       "    </tr>\n",
       "    <tr>\n",
       "      <th>290</th>\n",
       "      <td>202203</td>\n",
       "      <td>Italy</td>\n",
       "      <td>Import</td>\n",
       "      <td>milled</td>\n",
       "      <td>9.665562e+06</td>\n",
       "    </tr>\n",
       "  </tbody>\n",
       "</table>\n",
       "</div>"
      ],
      "text/plain": [
       "      Period PartnerDesc FlowDesc RiceType  PrimaryValue\n",
       "807   202207       India   Import    brown  2.061330e+07\n",
       "1322  202211       India   Import    brown  1.961395e+07\n",
       "1444  202212       India   Import    brown  1.205263e+07\n",
       "399   202204    Pakistan   Import    brown  1.038058e+07\n",
       "290   202203       Italy   Import   milled  9.665562e+06"
      ]
     },
     "execution_count": 748,
     "metadata": {},
     "output_type": "execute_result"
    }
   ],
   "source": [
    "# Define a function that takes a group as input\n",
    "def buysEveryMonth(group):\n",
    "    # Check if the length of the group is greater than or equal to 24\n",
    "    return len(group) >= 24\n",
    "\n",
    "grouped = imports.groupby([PARTNER])\n",
    "regular = grouped.filter(buysEveryMonth)\n",
    "regular.sort_values(VALUE, ascending=False).head(5)"
   ]
  },
  {
   "cell_type": "code",
   "execution_count": 749,
   "metadata": {},
   "outputs": [
    {
     "data": {
      "text/html": [
       "<div>\n",
       "<style scoped>\n",
       "    .dataframe tbody tr th:only-of-type {\n",
       "        vertical-align: middle;\n",
       "    }\n",
       "\n",
       "    .dataframe tbody tr th {\n",
       "        vertical-align: top;\n",
       "    }\n",
       "\n",
       "    .dataframe thead th {\n",
       "        text-align: right;\n",
       "    }\n",
       "</style>\n",
       "<table border=\"1\" class=\"dataframe\">\n",
       "  <thead>\n",
       "    <tr style=\"text-align: right;\">\n",
       "      <th></th>\n",
       "      <th>Period</th>\n",
       "      <th>PartnerDesc</th>\n",
       "      <th>FlowDesc</th>\n",
       "      <th>RiceType</th>\n",
       "      <th>PrimaryValue</th>\n",
       "    </tr>\n",
       "  </thead>\n",
       "  <tbody>\n",
       "    <tr>\n",
       "      <th>20</th>\n",
       "      <td>202201</td>\n",
       "      <td>India</td>\n",
       "      <td>Import</td>\n",
       "      <td>brown</td>\n",
       "      <td>9074246.633</td>\n",
       "    </tr>\n",
       "    <tr>\n",
       "      <th>17</th>\n",
       "      <td>202201</td>\n",
       "      <td>Pakistan</td>\n",
       "      <td>Import</td>\n",
       "      <td>brown</td>\n",
       "      <td>7448017.350</td>\n",
       "    </tr>\n",
       "    <tr>\n",
       "      <th>52</th>\n",
       "      <td>202201</td>\n",
       "      <td>India</td>\n",
       "      <td>Import</td>\n",
       "      <td>milled</td>\n",
       "      <td>6781056.724</td>\n",
       "    </tr>\n",
       "    <tr>\n",
       "      <th>62</th>\n",
       "      <td>202201</td>\n",
       "      <td>Myanmar</td>\n",
       "      <td>Import</td>\n",
       "      <td>broken</td>\n",
       "      <td>6234314.231</td>\n",
       "    </tr>\n",
       "    <tr>\n",
       "      <th>41</th>\n",
       "      <td>202201</td>\n",
       "      <td>Italy</td>\n",
       "      <td>Import</td>\n",
       "      <td>milled</td>\n",
       "      <td>6112582.889</td>\n",
       "    </tr>\n",
       "  </tbody>\n",
       "</table>\n",
       "</div>"
      ],
      "text/plain": [
       "    Period PartnerDesc FlowDesc RiceType  PrimaryValue\n",
       "20  202201       India   Import    brown   9074246.633\n",
       "17  202201    Pakistan   Import    brown   7448017.350\n",
       "52  202201       India   Import   milled   6781056.724\n",
       "62  202201     Myanmar   Import   broken   6234314.231\n",
       "41  202201       Italy   Import   milled   6112582.889"
      ]
     },
     "execution_count": 749,
     "metadata": {},
     "output_type": "execute_result"
    }
   ],
   "source": [
    "regularImpJan = regular[(regular[MONTH] == 202201)].sort_values(VALUE, ascending=False)\n",
    "regularImpJan.head(5)"
   ]
  },
  {
   "cell_type": "code",
   "execution_count": 750,
   "metadata": {},
   "outputs": [
    {
     "data": {
      "text/plain": [
       "0.7931005161946342"
      ]
     },
     "execution_count": 750,
     "metadata": {},
     "output_type": "execute_result"
    }
   ],
   "source": [
    "regular[VALUE].sum() / imports[VALUE].sum()"
   ]
  },
  {
   "cell_type": "code",
   "execution_count": 751,
   "metadata": {
    "activity": false
   },
   "outputs": [
    {
     "data": {
      "text/html": [
       "<div>\n",
       "<style scoped>\n",
       "    .dataframe tbody tr th:only-of-type {\n",
       "        vertical-align: middle;\n",
       "    }\n",
       "\n",
       "    .dataframe tbody tr th {\n",
       "        vertical-align: top;\n",
       "    }\n",
       "\n",
       "    .dataframe thead th {\n",
       "        text-align: right;\n",
       "    }\n",
       "</style>\n",
       "<table border=\"1\" class=\"dataframe\">\n",
       "  <thead>\n",
       "    <tr style=\"text-align: right;\">\n",
       "      <th></th>\n",
       "      <th>Period</th>\n",
       "      <th>PartnerDesc</th>\n",
       "      <th>FlowDesc</th>\n",
       "      <th>RiceType</th>\n",
       "      <th>PrimaryValue</th>\n",
       "    </tr>\n",
       "  </thead>\n",
       "  <tbody>\n",
       "    <tr>\n",
       "      <th>1522</th>\n",
       "      <td>202212</td>\n",
       "      <td>France</td>\n",
       "      <td>Export</td>\n",
       "      <td>milled</td>\n",
       "      <td>1937978.741</td>\n",
       "    </tr>\n",
       "    <tr>\n",
       "      <th>482</th>\n",
       "      <td>202204</td>\n",
       "      <td>Ireland</td>\n",
       "      <td>Export</td>\n",
       "      <td>milled</td>\n",
       "      <td>1595044.684</td>\n",
       "    </tr>\n",
       "    <tr>\n",
       "      <th>1397</th>\n",
       "      <td>202211</td>\n",
       "      <td>France</td>\n",
       "      <td>Export</td>\n",
       "      <td>milled</td>\n",
       "      <td>1589510.211</td>\n",
       "    </tr>\n",
       "    <tr>\n",
       "      <th>1403</th>\n",
       "      <td>202211</td>\n",
       "      <td>Ireland</td>\n",
       "      <td>Export</td>\n",
       "      <td>milled</td>\n",
       "      <td>1450030.134</td>\n",
       "    </tr>\n",
       "    <tr>\n",
       "      <th>1527</th>\n",
       "      <td>202212</td>\n",
       "      <td>Ireland</td>\n",
       "      <td>Export</td>\n",
       "      <td>milled</td>\n",
       "      <td>1401032.365</td>\n",
       "    </tr>\n",
       "  </tbody>\n",
       "</table>\n",
       "</div>"
      ],
      "text/plain": [
       "      Period PartnerDesc FlowDesc RiceType  PrimaryValue\n",
       "1522  202212      France   Export   milled   1937978.741\n",
       "482   202204     Ireland   Export   milled   1595044.684\n",
       "1397  202211      France   Export   milled   1589510.211\n",
       "1403  202211     Ireland   Export   milled   1450030.134\n",
       "1527  202212     Ireland   Export   milled   1401032.365"
      ]
     },
     "execution_count": 751,
     "metadata": {},
     "output_type": "execute_result"
    }
   ],
   "source": [
    "# Define a function that takes a group as input\n",
    "def buysEveryMonth(group):\n",
    "    # Check if the length of the group is greater than or equal to 12\n",
    "    return len(group) >= 12\n",
    "\n",
    "grouped = exports.groupby([PARTNER])\n",
    "regular = grouped.filter(buysEveryMonth)\n",
    "regular.sort_values(VALUE, ascending=False).head(5)"
   ]
  },
  {
   "cell_type": "code",
   "execution_count": 752,
   "metadata": {},
   "outputs": [
    {
     "data": {
      "text/html": [
       "<div>\n",
       "<style scoped>\n",
       "    .dataframe tbody tr th:only-of-type {\n",
       "        vertical-align: middle;\n",
       "    }\n",
       "\n",
       "    .dataframe tbody tr th {\n",
       "        vertical-align: top;\n",
       "    }\n",
       "\n",
       "    .dataframe thead th {\n",
       "        text-align: right;\n",
       "    }\n",
       "</style>\n",
       "<table border=\"1\" class=\"dataframe\">\n",
       "  <thead>\n",
       "    <tr style=\"text-align: right;\">\n",
       "      <th></th>\n",
       "      <th>Period</th>\n",
       "      <th>PartnerDesc</th>\n",
       "      <th>FlowDesc</th>\n",
       "      <th>RiceType</th>\n",
       "      <th>PrimaryValue</th>\n",
       "    </tr>\n",
       "  </thead>\n",
       "  <tbody>\n",
       "    <tr>\n",
       "      <th>102</th>\n",
       "      <td>202201</td>\n",
       "      <td>Ireland</td>\n",
       "      <td>Export</td>\n",
       "      <td>milled</td>\n",
       "      <td>556886.546</td>\n",
       "    </tr>\n",
       "    <tr>\n",
       "      <th>97</th>\n",
       "      <td>202201</td>\n",
       "      <td>France</td>\n",
       "      <td>Export</td>\n",
       "      <td>milled</td>\n",
       "      <td>485008.455</td>\n",
       "    </tr>\n",
       "    <tr>\n",
       "      <th>106</th>\n",
       "      <td>202201</td>\n",
       "      <td>Netherlands</td>\n",
       "      <td>Export</td>\n",
       "      <td>milled</td>\n",
       "      <td>372155.869</td>\n",
       "    </tr>\n",
       "    <tr>\n",
       "      <th>98</th>\n",
       "      <td>202201</td>\n",
       "      <td>Germany</td>\n",
       "      <td>Export</td>\n",
       "      <td>milled</td>\n",
       "      <td>103778.753</td>\n",
       "    </tr>\n",
       "    <tr>\n",
       "      <th>94</th>\n",
       "      <td>202201</td>\n",
       "      <td>Cyprus</td>\n",
       "      <td>Export</td>\n",
       "      <td>milled</td>\n",
       "      <td>94593.833</td>\n",
       "    </tr>\n",
       "  </tbody>\n",
       "</table>\n",
       "</div>"
      ],
      "text/plain": [
       "     Period  PartnerDesc FlowDesc RiceType  PrimaryValue\n",
       "102  202201      Ireland   Export   milled    556886.546\n",
       "97   202201       France   Export   milled    485008.455\n",
       "106  202201  Netherlands   Export   milled    372155.869\n",
       "98   202201      Germany   Export   milled    103778.753\n",
       "94   202201       Cyprus   Export   milled     94593.833"
      ]
     },
     "execution_count": 752,
     "metadata": {},
     "output_type": "execute_result"
    }
   ],
   "source": [
    "regularExpJan = regular[(regular[MONTH] == 202201)].sort_values(VALUE, ascending=False)\n",
    "regularExpJan.head(5)"
   ]
  },
  {
   "cell_type": "code",
   "execution_count": 753,
   "metadata": {
    "activity": false
   },
   "outputs": [
    {
     "data": {
      "text/plain": [
       "0.9696625283516452"
      ]
     },
     "execution_count": 753,
     "metadata": {},
     "output_type": "execute_result"
    }
   ],
   "source": [
    "regular[VALUE].sum() / exports[VALUE].sum()"
   ]
  },
  {
   "cell_type": "markdown",
   "metadata": {},
   "source": [
    "For rice imports, the UK's regular trade partners are located in South Asia and Southeast Asia, including India, Pakistan, and Myanmar. Italy is also a major import partner from Europe. Together, these countries account for 79.3% of total UK rice imports.\n",
    "\n",
    "Regarding rice exports, the UK's regular trade partners are European countries such as Ireland, France, the Netherlands, and Germany. These recurring customers comprise around 96.9% of total UK rice exports."
   ]
  },
  {
   "cell_type": "markdown",
   "metadata": {},
   "source": [
    "## Bi-directional trade\n",
    "\n",
    "To address the fourth question, \n",
    "'Which countries does the UK both import from and export to?', a pivot table is used to list the total export and import value for each country. "
   ]
  },
  {
   "cell_type": "code",
   "execution_count": 754,
   "metadata": {
    "activity": false
   },
   "outputs": [
    {
     "data": {
      "text/html": [
       "<div>\n",
       "<style scoped>\n",
       "    .dataframe tbody tr th:only-of-type {\n",
       "        vertical-align: middle;\n",
       "    }\n",
       "\n",
       "    .dataframe tbody tr th {\n",
       "        vertical-align: top;\n",
       "    }\n",
       "\n",
       "    .dataframe thead th {\n",
       "        text-align: right;\n",
       "    }\n",
       "</style>\n",
       "<table border=\"1\" class=\"dataframe\">\n",
       "  <thead>\n",
       "    <tr style=\"text-align: right;\">\n",
       "      <th>FlowDesc</th>\n",
       "      <th>Export</th>\n",
       "      <th>Import</th>\n",
       "    </tr>\n",
       "    <tr>\n",
       "      <th>PartnerDesc</th>\n",
       "      <th></th>\n",
       "      <th></th>\n",
       "    </tr>\n",
       "  </thead>\n",
       "  <tbody>\n",
       "    <tr>\n",
       "      <th>Antarctica</th>\n",
       "      <td>17417.400</td>\n",
       "      <td>NaN</td>\n",
       "    </tr>\n",
       "    <tr>\n",
       "      <th>Areas, nes</th>\n",
       "      <td>3326775.751</td>\n",
       "      <td>NaN</td>\n",
       "    </tr>\n",
       "    <tr>\n",
       "      <th>Argentina</th>\n",
       "      <td>11808.178</td>\n",
       "      <td>1.553813e+07</td>\n",
       "    </tr>\n",
       "    <tr>\n",
       "      <th>Australia</th>\n",
       "      <td>161640.196</td>\n",
       "      <td>2.879119e+06</td>\n",
       "    </tr>\n",
       "    <tr>\n",
       "      <th>Austria</th>\n",
       "      <td>154112.827</td>\n",
       "      <td>2.075998e+03</td>\n",
       "    </tr>\n",
       "  </tbody>\n",
       "</table>\n",
       "</div>"
      ],
      "text/plain": [
       "FlowDesc          Export        Import\n",
       "PartnerDesc                           \n",
       "Antarctica     17417.400           NaN\n",
       "Areas, nes   3326775.751           NaN\n",
       "Argentina      11808.178  1.553813e+07\n",
       "Australia     161640.196  2.879119e+06\n",
       "Austria       154112.827  2.075998e+03"
      ]
     },
     "execution_count": 754,
     "metadata": {},
     "output_type": "execute_result"
    }
   ],
   "source": [
    "countries = pd.pivot_table(rice, index=[PARTNER], columns=[FLOW], values=VALUE, aggfunc=sum)\n",
    "countries.head()"
   ]
  },
  {
   "cell_type": "markdown",
   "metadata": {},
   "source": [
    "Removing the rows with a missing value will result in only those countries with bi-directional trade flow with the UK."
   ]
  },
  {
   "cell_type": "code",
   "execution_count": 755,
   "metadata": {
    "activity": false
   },
   "outputs": [
    {
     "data": {
      "text/html": [
       "<div>\n",
       "<style scoped>\n",
       "    .dataframe tbody tr th:only-of-type {\n",
       "        vertical-align: middle;\n",
       "    }\n",
       "\n",
       "    .dataframe tbody tr th {\n",
       "        vertical-align: top;\n",
       "    }\n",
       "\n",
       "    .dataframe thead th {\n",
       "        text-align: right;\n",
       "    }\n",
       "</style>\n",
       "<table border=\"1\" class=\"dataframe\">\n",
       "  <thead>\n",
       "    <tr style=\"text-align: right;\">\n",
       "      <th>FlowDesc</th>\n",
       "      <th>PartnerDesc</th>\n",
       "      <th>Export</th>\n",
       "      <th>Import</th>\n",
       "    </tr>\n",
       "  </thead>\n",
       "  <tbody>\n",
       "    <tr>\n",
       "      <th>0</th>\n",
       "      <td>Argentina</td>\n",
       "      <td>12.0</td>\n",
       "      <td>15538.0</td>\n",
       "    </tr>\n",
       "    <tr>\n",
       "      <th>1</th>\n",
       "      <td>Australia</td>\n",
       "      <td>162.0</td>\n",
       "      <td>2879.0</td>\n",
       "    </tr>\n",
       "    <tr>\n",
       "      <th>2</th>\n",
       "      <td>Austria</td>\n",
       "      <td>154.0</td>\n",
       "      <td>2.0</td>\n",
       "    </tr>\n",
       "    <tr>\n",
       "      <th>3</th>\n",
       "      <td>Bangladesh</td>\n",
       "      <td>0.0</td>\n",
       "      <td>688.0</td>\n",
       "    </tr>\n",
       "    <tr>\n",
       "      <th>4</th>\n",
       "      <td>Belgium</td>\n",
       "      <td>1640.0</td>\n",
       "      <td>1843.0</td>\n",
       "    </tr>\n",
       "    <tr>\n",
       "      <th>5</th>\n",
       "      <td>Bulgaria</td>\n",
       "      <td>6.0</td>\n",
       "      <td>162.0</td>\n",
       "    </tr>\n",
       "    <tr>\n",
       "      <th>6</th>\n",
       "      <td>Cambodia</td>\n",
       "      <td>0.0</td>\n",
       "      <td>15703.0</td>\n",
       "    </tr>\n",
       "    <tr>\n",
       "      <th>7</th>\n",
       "      <td>China, Hong Kong SAR</td>\n",
       "      <td>73.0</td>\n",
       "      <td>113.0</td>\n",
       "    </tr>\n",
       "    <tr>\n",
       "      <th>8</th>\n",
       "      <td>Egypt</td>\n",
       "      <td>9.0</td>\n",
       "      <td>7.0</td>\n",
       "    </tr>\n",
       "    <tr>\n",
       "      <th>9</th>\n",
       "      <td>France</td>\n",
       "      <td>11577.0</td>\n",
       "      <td>1118.0</td>\n",
       "    </tr>\n",
       "    <tr>\n",
       "      <th>10</th>\n",
       "      <td>Germany</td>\n",
       "      <td>4919.0</td>\n",
       "      <td>132.0</td>\n",
       "    </tr>\n",
       "    <tr>\n",
       "      <th>11</th>\n",
       "      <td>Greece</td>\n",
       "      <td>84.0</td>\n",
       "      <td>4529.0</td>\n",
       "    </tr>\n",
       "    <tr>\n",
       "      <th>12</th>\n",
       "      <td>India</td>\n",
       "      <td>1.0</td>\n",
       "      <td>161635.0</td>\n",
       "    </tr>\n",
       "    <tr>\n",
       "      <th>13</th>\n",
       "      <td>Ireland</td>\n",
       "      <td>13161.0</td>\n",
       "      <td>570.0</td>\n",
       "    </tr>\n",
       "    <tr>\n",
       "      <th>14</th>\n",
       "      <td>Israel</td>\n",
       "      <td>404.0</td>\n",
       "      <td>3.0</td>\n",
       "    </tr>\n",
       "    <tr>\n",
       "      <th>15</th>\n",
       "      <td>Italy</td>\n",
       "      <td>2746.0</td>\n",
       "      <td>82486.0</td>\n",
       "    </tr>\n",
       "    <tr>\n",
       "      <th>16</th>\n",
       "      <td>Latvia</td>\n",
       "      <td>42.0</td>\n",
       "      <td>25.0</td>\n",
       "    </tr>\n",
       "    <tr>\n",
       "      <th>17</th>\n",
       "      <td>Lebanon</td>\n",
       "      <td>1.0</td>\n",
       "      <td>31.0</td>\n",
       "    </tr>\n",
       "    <tr>\n",
       "      <th>18</th>\n",
       "      <td>Netherlands</td>\n",
       "      <td>12082.0</td>\n",
       "      <td>2578.0</td>\n",
       "    </tr>\n",
       "    <tr>\n",
       "      <th>19</th>\n",
       "      <td>Nigeria</td>\n",
       "      <td>32.0</td>\n",
       "      <td>6.0</td>\n",
       "    </tr>\n",
       "    <tr>\n",
       "      <th>20</th>\n",
       "      <td>Pakistan</td>\n",
       "      <td>10.0</td>\n",
       "      <td>100425.0</td>\n",
       "    </tr>\n",
       "    <tr>\n",
       "      <th>21</th>\n",
       "      <td>Poland</td>\n",
       "      <td>139.0</td>\n",
       "      <td>84.0</td>\n",
       "    </tr>\n",
       "    <tr>\n",
       "      <th>22</th>\n",
       "      <td>Portugal</td>\n",
       "      <td>31.0</td>\n",
       "      <td>5448.0</td>\n",
       "    </tr>\n",
       "    <tr>\n",
       "      <th>23</th>\n",
       "      <td>Romania</td>\n",
       "      <td>14.0</td>\n",
       "      <td>419.0</td>\n",
       "    </tr>\n",
       "    <tr>\n",
       "      <th>24</th>\n",
       "      <td>Russian Federation</td>\n",
       "      <td>2.0</td>\n",
       "      <td>1248.0</td>\n",
       "    </tr>\n",
       "    <tr>\n",
       "      <th>25</th>\n",
       "      <td>Saudi Arabia</td>\n",
       "      <td>13.0</td>\n",
       "      <td>18.0</td>\n",
       "    </tr>\n",
       "    <tr>\n",
       "      <th>26</th>\n",
       "      <td>Spain</td>\n",
       "      <td>734.0</td>\n",
       "      <td>50999.0</td>\n",
       "    </tr>\n",
       "    <tr>\n",
       "      <th>27</th>\n",
       "      <td>Sweden</td>\n",
       "      <td>833.0</td>\n",
       "      <td>6.0</td>\n",
       "    </tr>\n",
       "    <tr>\n",
       "      <th>28</th>\n",
       "      <td>Thailand</td>\n",
       "      <td>14.0</td>\n",
       "      <td>36141.0</td>\n",
       "    </tr>\n",
       "    <tr>\n",
       "      <th>29</th>\n",
       "      <td>Türkiye</td>\n",
       "      <td>20.0</td>\n",
       "      <td>3531.0</td>\n",
       "    </tr>\n",
       "    <tr>\n",
       "      <th>30</th>\n",
       "      <td>USA</td>\n",
       "      <td>126.0</td>\n",
       "      <td>18978.0</td>\n",
       "    </tr>\n",
       "    <tr>\n",
       "      <th>31</th>\n",
       "      <td>United Arab Emirates</td>\n",
       "      <td>271.0</td>\n",
       "      <td>2876.0</td>\n",
       "    </tr>\n",
       "    <tr>\n",
       "      <th>32</th>\n",
       "      <td>Viet Nam</td>\n",
       "      <td>6.0</td>\n",
       "      <td>3653.0</td>\n",
       "    </tr>\n",
       "  </tbody>\n",
       "</table>\n",
       "</div>"
      ],
      "text/plain": [
       "FlowDesc           PartnerDesc   Export    Import\n",
       "0                    Argentina     12.0   15538.0\n",
       "1                    Australia    162.0    2879.0\n",
       "2                      Austria    154.0       2.0\n",
       "3                   Bangladesh      0.0     688.0\n",
       "4                      Belgium   1640.0    1843.0\n",
       "5                     Bulgaria      6.0     162.0\n",
       "6                     Cambodia      0.0   15703.0\n",
       "7         China, Hong Kong SAR     73.0     113.0\n",
       "8                        Egypt      9.0       7.0\n",
       "9                       France  11577.0    1118.0\n",
       "10                     Germany   4919.0     132.0\n",
       "11                      Greece     84.0    4529.0\n",
       "12                       India      1.0  161635.0\n",
       "13                     Ireland  13161.0     570.0\n",
       "14                      Israel    404.0       3.0\n",
       "15                       Italy   2746.0   82486.0\n",
       "16                      Latvia     42.0      25.0\n",
       "17                     Lebanon      1.0      31.0\n",
       "18                 Netherlands  12082.0    2578.0\n",
       "19                     Nigeria     32.0       6.0\n",
       "20                    Pakistan     10.0  100425.0\n",
       "21                      Poland    139.0      84.0\n",
       "22                    Portugal     31.0    5448.0\n",
       "23                     Romania     14.0     419.0\n",
       "24          Russian Federation      2.0    1248.0\n",
       "25                Saudi Arabia     13.0      18.0\n",
       "26                       Spain    734.0   50999.0\n",
       "27                      Sweden    833.0       6.0\n",
       "28                    Thailand     14.0   36141.0\n",
       "29                     Türkiye     20.0    3531.0\n",
       "30                         USA    126.0   18978.0\n",
       "31        United Arab Emirates    271.0    2876.0\n",
       "32                    Viet Nam      6.0    3653.0"
      ]
     },
     "execution_count": 755,
     "metadata": {},
     "output_type": "execute_result"
    }
   ],
   "source": [
    "countries = countries.dropna().apply(roundToThousands)\n",
    "# Reset the pivot table to a regular DataFrame\n",
    "countries = countries.reset_index()\n",
    "countries"
   ]
  },
  {
   "cell_type": "code",
   "execution_count": 756,
   "metadata": {},
   "outputs": [
    {
     "data": {
      "image/png": "[encoded data removed]",
      "text/plain": [
       "<Figure size 640x480 with 1 Axes>"
      ]
     },
     "metadata": {},
     "output_type": "display_data"
    }
   ],
   "source": [
    "\n",
    "# Create the scatter plot\n",
    "plt.scatter(countries['Import'], countries['Export'])\n",
    "\n",
    "# Add nation names as annotations near the dots\n",
    "for i, (x, y, country) in enumerate(zip(countries['Import'], countries['Export'], countries['PartnerDesc'])):\n",
    "    plt.annotate(country, (x, y), textcoords=\"offset points\", xytext=(5,5), ha='center')\n",
    "\n",
    "# Set labels and title\n",
    "plt.xlabel(\"Import Value in USD\")\n",
    "plt.ylabel(\"Export Value in USD\")\n",
    "plt.title(\"Bi-directional trade\")\n",
    "\n",
    "# Show the plot\n",
    "plt.show()"
   ]
  },
  {
   "cell_type": "markdown",
   "metadata": {},
   "source": [
    "It appears the UK engages in bi-directional rice trade with 32 countries, although some of the values are quite low. As shown on the scatter plot, the UK both imports and exports a certain volume of rice to and from Italy, making it the country with the strongest two-way trade according to the available data. "
   ]
  },
  {
   "cell_type": "markdown",
   "metadata": {},
   "source": [
    "## Conclusions\n",
    "\n",
    "- The rice trade of the UK from January to December 2022 was analyzed in terms of which countries the UK most relies upon for income (exports) and goods (imports). Over this period, the UK had a rice trade deficit exceeding 550 thousand US dollars.\n",
    "\n",
    "- The UK regularly imports rice from South and Southeast Asian countries such as India, Pakistan, and Myanmar, with Italy serving as the most influential partner in Europe.\n",
    "\n",
    "- While rice exports are not as substantial as imports, the UK's primary export partners are located in Europe, including Ireland, France, the Netherlands, and Germany.\n",
    "\n",
    "- Domestically, the UK depends heavily on its consistent trade partners, as they account for more than 80% of total export value.\n",
    "\n",
    "- Bilateral rice trade was identified with 32 countries, though some values (in US dollars) were suspiciously low, warranting scrutiny of the data accuracy.\n",
    "\n",
    "- These insights are limited by analyzing only 2022 data, which included missing values and questionable figures. A longitudinal study examining multi-year trade patterns could provide a more robust interpretation, particularly regarding impacts from events like the COVID-19 pandemic before and after 2019."
   ]
  }
 ],
 "metadata": {
  "kernelspec": {
   "display_name": "Python 3",
   "language": "python",
   "name": "python3"
  },
  "language_info": {
   "codemirror_mode": {
    "name": "ipython",
    "version": 3
   },
   "file_extension": ".py",
   "mimetype": "text/x-python",
   "name": "python",
   "nbconvert_exporter": "python",
   "pygments_lexer": "ipython3",
   "version": "3.11.5"
  }
 },
 "nbformat": 4,
 "nbformat_minor": 1
}
