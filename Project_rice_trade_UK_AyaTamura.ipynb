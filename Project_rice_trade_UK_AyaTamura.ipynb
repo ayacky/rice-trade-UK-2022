{
 "cells": [
  {
   "cell_type": "markdown",
   "metadata": {},
   "source": [
    "# Project : Exploring the UK's rice imports and exports\n",
    "\n",
    "by Aya Tamura, 25 November, 2023, updated 22 December, 2023\n",
    "\n",
    "As an Asian living in the United Kingdom, I often eat rice and appreciate the availability of variety of rice in shops. According to [the Rice Association]('https://www.riceassociation.org.uk/rice-in-the-uk'), rice is not grown in the UK. I wonder where rice comes from to the UK. Is rice cultivated domestically within the UK actually, or is it solely imported from abroad? In this project, I aim to conduct research on the locales where rice comes from using available data."
   ]
  },
  {
   "cell_type": "markdown",
   "metadata": {},
   "source": [
    "## Research Questions\n",
    "1. Which countries import the most rice for the UK in 2022?\n",
    "2. Does UK export rice to other countries? If yes, which countries export the most rice for the UK in 2022?\n",
    "3. What kinds of rice are most popular for import and export? "
   ]
  },
  {
   "cell_type": "markdown",
   "metadata": {},
   "source": [
    "## Analytical approaches\n",
    "How do we define 'best' and 'popularity'?\n",
    "\n",
    "In general, the values of import and export are often used to measure trade intensity. \n",
    "In this research, to measure 'best' and 'popularity' of rice trade for the UK, we use the total of trade values (USD) in 2022."
   ]
  },
  {
   "cell_type": "markdown",
   "metadata": {},
   "source": [
    "## Getting Data\n",
    "\n",
    "The United Nations (UN) Comtrade database have wide range of global trade data. It shall be leveraged to analyze the UK's rice imports and exports:\n",
    "\n",
    "- What quantities of rice does the UK export and import, and does a positive balance exist (exports surpassing imports)?\n",
    "- Which countries constitute the primary trading partners, i.e. from which nations does the UK import most rice, and to which countries are the greatest exports bound?\n",
    "- Which countries reliably purchase rice from the UK on a monthly basis - the consistent clients?\n",
    "- Regarding rice, which countries does the UK both import from and export to?\n",
    "\n",
    "I aim to conduct a judicious study of the UK rice trade sector utilizing UN Comtrade in 2022.\n",
    "The data is obtained from the [United Nations Comtrade](http://comtrade.un.org/data/) website, by selecting the following configuration:\n",
    "\n",
    "- Type of Product: goods\n",
    "- Frequency: Monthly \n",
    "- Periods: All of 2022\n",
    "- Reporter: United Kingdom\n",
    "- Partners: All\n",
    "- Flows: imports and exports\n",
    "- HS (as reported) commodity codes: 100610, 100620, 100630, 100640"
   ]
  },
  {
   "cell_type": "code",
   "execution_count": 551,
   "metadata": {
    "activity": false,
    "collapsed": true
   },
   "outputs": [],
   "source": [
    "# Importing the libraries \n",
    "import pandas as pd\n",
    "import matplotlib.pyplot as plt\n",
    "import numpy as np"
   ]
  },
  {
   "cell_type": "code",
   "execution_count": 552,
   "metadata": {
    "collapsed": true
   },
   "outputs": [],
   "source": [
    "# Assign a file location of the CSV data\n",
    "LOCATION = 'comtrade_rice_monthly_22.csv'"
   ]
  },
  {
   "cell_type": "markdown",
   "metadata": {},
   "source": [
    "The downloaded file is saved using a file encoding (*Latin-1*). As Pandas does not recognise this by default, resulting in `UnicodeDecodeError`.　Hence, reading a file with `encoding = \"Latin-1\"` should fix the problem."
   ]
  },
  {
   "cell_type": "code",
   "execution_count": 553,
   "metadata": {
    "activity": false
   },
   "outputs": [
    {
     "data": {
      "text/html": [
       "<div>\n",
       "<style scoped>\n",
       "    .dataframe tbody tr th:only-of-type {\n",
       "        vertical-align: middle;\n",
       "    }\n",
       "\n",
       "    .dataframe tbody tr th {\n",
       "        vertical-align: top;\n",
       "    }\n",
       "\n",
       "    .dataframe thead th {\n",
       "        text-align: right;\n",
       "    }\n",
       "</style>\n",
       "<table border=\"1\" class=\"dataframe\">\n",
       "  <thead>\n",
       "    <tr style=\"text-align: right;\">\n",
       "      <th></th>\n",
       "      <th>TypeCode</th>\n",
       "      <th>FreqCode</th>\n",
       "      <th>RefPeriodId</th>\n",
       "      <th>RefYear</th>\n",
       "      <th>RefMonth</th>\n",
       "      <th>Period</th>\n",
       "      <th>ReporterCode</th>\n",
       "      <th>ReporterISO</th>\n",
       "      <th>ReporterDesc</th>\n",
       "      <th>FlowCode</th>\n",
       "      <th>...</th>\n",
       "      <th>IsNetWgtEstimated</th>\n",
       "      <th>GrossWgt</th>\n",
       "      <th>IsGrossWgtEstimated</th>\n",
       "      <th>Cifvalue</th>\n",
       "      <th>Fobvalue</th>\n",
       "      <th>PrimaryValue</th>\n",
       "      <th>LegacyEstimationFlag</th>\n",
       "      <th>IsReported</th>\n",
       "      <th>IsAggregate</th>\n",
       "      <th>Unnamed: 47</th>\n",
       "    </tr>\n",
       "  </thead>\n",
       "  <tbody>\n",
       "    <tr>\n",
       "      <th>0</th>\n",
       "      <td>C</td>\n",
       "      <td>M</td>\n",
       "      <td>20220101</td>\n",
       "      <td>2022</td>\n",
       "      <td>1</td>\n",
       "      <td>202201</td>\n",
       "      <td>826</td>\n",
       "      <td>GBR</td>\n",
       "      <td>United Kingdom</td>\n",
       "      <td>M</td>\n",
       "      <td>...</td>\n",
       "      <td>False</td>\n",
       "      <td>0</td>\n",
       "      <td>False</td>\n",
       "      <td>44525.184</td>\n",
       "      <td>NaN</td>\n",
       "      <td>44525.184</td>\n",
       "      <td>0</td>\n",
       "      <td>False</td>\n",
       "      <td>True</td>\n",
       "      <td>NaN</td>\n",
       "    </tr>\n",
       "    <tr>\n",
       "      <th>1</th>\n",
       "      <td>C</td>\n",
       "      <td>M</td>\n",
       "      <td>20220101</td>\n",
       "      <td>2022</td>\n",
       "      <td>1</td>\n",
       "      <td>202201</td>\n",
       "      <td>826</td>\n",
       "      <td>GBR</td>\n",
       "      <td>United Kingdom</td>\n",
       "      <td>M</td>\n",
       "      <td>...</td>\n",
       "      <td>False</td>\n",
       "      <td>0</td>\n",
       "      <td>False</td>\n",
       "      <td>8479.117</td>\n",
       "      <td>NaN</td>\n",
       "      <td>8479.117</td>\n",
       "      <td>0</td>\n",
       "      <td>False</td>\n",
       "      <td>True</td>\n",
       "      <td>NaN</td>\n",
       "    </tr>\n",
       "    <tr>\n",
       "      <th>2</th>\n",
       "      <td>C</td>\n",
       "      <td>M</td>\n",
       "      <td>20220101</td>\n",
       "      <td>2022</td>\n",
       "      <td>1</td>\n",
       "      <td>202201</td>\n",
       "      <td>826</td>\n",
       "      <td>GBR</td>\n",
       "      <td>United Kingdom</td>\n",
       "      <td>M</td>\n",
       "      <td>...</td>\n",
       "      <td>False</td>\n",
       "      <td>0</td>\n",
       "      <td>False</td>\n",
       "      <td>2400.542</td>\n",
       "      <td>NaN</td>\n",
       "      <td>2400.542</td>\n",
       "      <td>0</td>\n",
       "      <td>False</td>\n",
       "      <td>True</td>\n",
       "      <td>NaN</td>\n",
       "    </tr>\n",
       "    <tr>\n",
       "      <th>3</th>\n",
       "      <td>C</td>\n",
       "      <td>M</td>\n",
       "      <td>20220101</td>\n",
       "      <td>2022</td>\n",
       "      <td>1</td>\n",
       "      <td>202201</td>\n",
       "      <td>826</td>\n",
       "      <td>GBR</td>\n",
       "      <td>United Kingdom</td>\n",
       "      <td>M</td>\n",
       "      <td>...</td>\n",
       "      <td>False</td>\n",
       "      <td>0</td>\n",
       "      <td>False</td>\n",
       "      <td>32479.122</td>\n",
       "      <td>NaN</td>\n",
       "      <td>32479.122</td>\n",
       "      <td>0</td>\n",
       "      <td>False</td>\n",
       "      <td>True</td>\n",
       "      <td>NaN</td>\n",
       "    </tr>\n",
       "    <tr>\n",
       "      <th>4</th>\n",
       "      <td>C</td>\n",
       "      <td>M</td>\n",
       "      <td>20220101</td>\n",
       "      <td>2022</td>\n",
       "      <td>1</td>\n",
       "      <td>202201</td>\n",
       "      <td>826</td>\n",
       "      <td>GBR</td>\n",
       "      <td>United Kingdom</td>\n",
       "      <td>M</td>\n",
       "      <td>...</td>\n",
       "      <td>False</td>\n",
       "      <td>0</td>\n",
       "      <td>False</td>\n",
       "      <td>1166.403</td>\n",
       "      <td>NaN</td>\n",
       "      <td>1166.403</td>\n",
       "      <td>0</td>\n",
       "      <td>False</td>\n",
       "      <td>True</td>\n",
       "      <td>NaN</td>\n",
       "    </tr>\n",
       "  </tbody>\n",
       "</table>\n",
       "<p>5 rows × 48 columns</p>\n",
       "</div>"
      ],
      "text/plain": [
       "  TypeCode FreqCode  RefPeriodId  RefYear  RefMonth  Period  ReporterCode  \\\n",
       "0        C        M     20220101     2022         1  202201           826   \n",
       "1        C        M     20220101     2022         1  202201           826   \n",
       "2        C        M     20220101     2022         1  202201           826   \n",
       "3        C        M     20220101     2022         1  202201           826   \n",
       "4        C        M     20220101     2022         1  202201           826   \n",
       "\n",
       "  ReporterISO    ReporterDesc FlowCode  ... IsNetWgtEstimated  GrossWgt  \\\n",
       "0         GBR  United Kingdom        M  ...             False         0   \n",
       "1         GBR  United Kingdom        M  ...             False         0   \n",
       "2         GBR  United Kingdom        M  ...             False         0   \n",
       "3         GBR  United Kingdom        M  ...             False         0   \n",
       "4         GBR  United Kingdom        M  ...             False         0   \n",
       "\n",
       "  IsGrossWgtEstimated   Cifvalue  Fobvalue PrimaryValue LegacyEstimationFlag  \\\n",
       "0               False  44525.184       NaN    44525.184                    0   \n",
       "1               False   8479.117       NaN     8479.117                    0   \n",
       "2               False   2400.542       NaN     2400.542                    0   \n",
       "3               False  32479.122       NaN    32479.122                    0   \n",
       "4               False   1166.403       NaN     1166.403                    0   \n",
       "\n",
       "  IsReported IsAggregate  Unnamed: 47  \n",
       "0      False        True          NaN  \n",
       "1      False        True          NaN  \n",
       "2      False        True          NaN  \n",
       "3      False        True          NaN  \n",
       "4      False        True          NaN  \n",
       "\n",
       "[5 rows x 48 columns]"
      ]
     },
     "execution_count": 553,
     "metadata": {},
     "output_type": "execute_result"
    }
   ],
   "source": [
    "# Read the CSV data with latin-1 encoding and diaplay\n",
    "rice = pd.read_csv(LOCATION, encoding='latin-1')\n",
    "rice.head()"
   ]
  },
  {
   "cell_type": "markdown",
   "metadata": {},
   "source": [
    "## Data Cleaning\n",
    "1. Drop irrelevant columns\n",
    "2. Drop irrelevant rows\n",
    "3. Check missing values"
   ]
  },
  {
   "cell_type": "code",
   "execution_count": 554,
   "metadata": {},
   "outputs": [
    {
     "data": {
      "text/plain": [
       "Index(['TypeCode', 'FreqCode', 'RefPeriodId', 'RefYear', 'RefMonth', 'Period',\n",
       "       'ReporterCode', 'ReporterISO', 'ReporterDesc', 'FlowCode', 'FlowDesc',\n",
       "       'PartnerCode', 'PartnerISO', 'PartnerDesc', 'Partner2Code',\n",
       "       'Partner2ISO', 'Partner2Desc', 'ClassificationCode',\n",
       "       'ClassificationSearchCode', 'IsOriginalClassification', 'CmdCode',\n",
       "       'CmdDesc', 'AggrLevel', 'IsLeaf', 'CustomsCode', 'CustomsDesc',\n",
       "       'MosCode', 'MotCode', 'MotDesc', 'QtyUnitCode', 'QtyUnitAbbr', 'Qty',\n",
       "       'IsQtyEstimated', 'AltQtyUnitCode', 'AltQtyUnitAbbr', 'AtlQty',\n",
       "       'IsAltQtyEstimated', 'NetWgt', 'IsNetWgtEstimated', 'GrossWgt',\n",
       "       'IsGrossWgtEstimated', 'Cifvalue', 'Fobvalue', 'PrimaryValue',\n",
       "       'LegacyEstimationFlag', 'IsReported', 'IsAggregate', 'Unnamed: 47'],\n",
       "      dtype='object')"
      ]
     },
     "execution_count": 554,
     "metadata": {},
     "output_type": "execute_result"
    }
   ],
   "source": [
    "rice.columns"
   ]
  },
  {
   "cell_type": "code",
   "execution_count": 555,
   "metadata": {},
   "outputs": [],
   "source": [
    "# Drop columns that are irrelevant for this analysis.\n",
    "YEAR = 'RefYear'\n",
    "MONTH = 'Period'\n",
    "FLOW = 'FlowDesc'\n",
    "PARTNER = 'PartnerDesc'\n",
    "CODE = 'CmdCode'\n",
    "RICE = 'CmdDesc'\n",
    "VALUE = 'PrimaryValue'\n",
    "\n",
    "heading = [YEAR, MONTH, FLOW, PARTNER, CODE, RICE, VALUE]\n",
    "rice = rice[heading]"
   ]
  },
  {
   "cell_type": "code",
   "execution_count": 556,
   "metadata": {},
   "outputs": [
    {
     "data": {
      "text/plain": [
       "array(['World', 'Bangladesh', 'Iran', 'Ireland', 'Netherlands',\n",
       "       'Argentina', 'Belgium', 'Cambodia', 'Sri Lanka', 'France',\n",
       "       'Greece', 'Guyana', 'Iraq', 'Italy', 'Pakistan', 'Paraguay',\n",
       "       'Romania', 'India', 'Viet Nam', 'Spain', 'Thailand', 'Türkiye',\n",
       "       'USA', 'Uruguay', 'Australia', 'Brazil', 'Bulgaria', 'China',\n",
       "       'Germany', 'Japan', 'Rep. of Korea', \"Lao People's Dem. Rep.\",\n",
       "       'Lebanon', 'Other Asia, nes', 'Poland', 'Portugal',\n",
       "       'United Arab Emirates', 'Myanmar', 'Kazakhstan', 'Nigeria',\n",
       "       'Russian Federation', 'China, Hong Kong SAR', 'Cyprus', 'Iceland',\n",
       "       'Israel', 'Malta', 'Areas, nes', 'Austria', 'Czechia', 'Finland',\n",
       "       'Sweden', 'Switzerland', 'Gibraltar', 'Mexico', 'Egypt', 'Gambia',\n",
       "       'Saudi Arabia', 'Bahrain', 'Cayman Isds', 'Croatia', 'Latvia',\n",
       "       'Norway', 'Qatar', 'Kuwait', 'Lithuania', 'Azerbaijan',\n",
       "       'Bolivia (Plurinational State of)', 'Bermuda', 'Philippines',\n",
       "       'Singapore', 'Yemen', 'Suriname', 'Central African Rep.', 'Ghana',\n",
       "       'Hungary', 'Canada', 'Falkland Isds (Malvinas)', 'Slovenia',\n",
       "       'Antarctica', 'Namibia', 'Slovakia', 'Estonia', 'Georgia',\n",
       "       'New Caledonia', 'Malaysia', 'Jordan', 'Ukraine', 'Denmark',\n",
       "       'Indonesia'], dtype=object)"
      ]
     },
     "execution_count": 556,
     "metadata": {},
     "output_type": "execute_result"
    }
   ],
   "source": [
    "# Check the partner countries\n",
    "rice[PARTNER].unique()"
   ]
  },
  {
   "cell_type": "markdown",
   "metadata": {},
   "source": [
    "The data contains the total imports and exports per month, under the 'World' partner. Those rows are removed to keep only the per-country data."
   ]
  },
  {
   "cell_type": "code",
   "execution_count": 557,
   "metadata": {},
   "outputs": [
    {
     "data": {
      "text/html": [
       "<div>\n",
       "<style scoped>\n",
       "    .dataframe tbody tr th:only-of-type {\n",
       "        vertical-align: middle;\n",
       "    }\n",
       "\n",
       "    .dataframe tbody tr th {\n",
       "        vertical-align: top;\n",
       "    }\n",
       "\n",
       "    .dataframe thead th {\n",
       "        text-align: right;\n",
       "    }\n",
       "</style>\n",
       "<table border=\"1\" class=\"dataframe\">\n",
       "  <thead>\n",
       "    <tr style=\"text-align: right;\">\n",
       "      <th></th>\n",
       "      <th>RefYear</th>\n",
       "      <th>Period</th>\n",
       "      <th>FlowDesc</th>\n",
       "      <th>PartnerDesc</th>\n",
       "      <th>CmdCode</th>\n",
       "      <th>CmdDesc</th>\n",
       "      <th>PrimaryValue</th>\n",
       "    </tr>\n",
       "  </thead>\n",
       "  <tbody>\n",
       "    <tr>\n",
       "      <th>1</th>\n",
       "      <td>2022</td>\n",
       "      <td>202201</td>\n",
       "      <td>Import</td>\n",
       "      <td>Bangladesh</td>\n",
       "      <td>100610</td>\n",
       "      <td>Cereals; rice in the husk (paddy or rough)</td>\n",
       "      <td>8479.117</td>\n",
       "    </tr>\n",
       "    <tr>\n",
       "      <th>2</th>\n",
       "      <td>2022</td>\n",
       "      <td>202201</td>\n",
       "      <td>Import</td>\n",
       "      <td>Iran</td>\n",
       "      <td>100610</td>\n",
       "      <td>Cereals; rice in the husk (paddy or rough)</td>\n",
       "      <td>2400.542</td>\n",
       "    </tr>\n",
       "    <tr>\n",
       "      <th>3</th>\n",
       "      <td>2022</td>\n",
       "      <td>202201</td>\n",
       "      <td>Import</td>\n",
       "      <td>Ireland</td>\n",
       "      <td>100610</td>\n",
       "      <td>Cereals; rice in the husk (paddy or rough)</td>\n",
       "      <td>32479.122</td>\n",
       "    </tr>\n",
       "    <tr>\n",
       "      <th>4</th>\n",
       "      <td>2022</td>\n",
       "      <td>202201</td>\n",
       "      <td>Import</td>\n",
       "      <td>Netherlands</td>\n",
       "      <td>100610</td>\n",
       "      <td>Cereals; rice in the husk (paddy or rough)</td>\n",
       "      <td>1166.403</td>\n",
       "    </tr>\n",
       "    <tr>\n",
       "      <th>6</th>\n",
       "      <td>2022</td>\n",
       "      <td>202201</td>\n",
       "      <td>Import</td>\n",
       "      <td>Argentina</td>\n",
       "      <td>100620</td>\n",
       "      <td>Cereals; husked (brown) rice</td>\n",
       "      <td>2079022.784</td>\n",
       "    </tr>\n",
       "  </tbody>\n",
       "</table>\n",
       "</div>"
      ],
      "text/plain": [
       "   RefYear  Period FlowDesc  PartnerDesc  CmdCode  \\\n",
       "1     2022  202201   Import   Bangladesh   100610   \n",
       "2     2022  202201   Import         Iran   100610   \n",
       "3     2022  202201   Import      Ireland   100610   \n",
       "4     2022  202201   Import  Netherlands   100610   \n",
       "6     2022  202201   Import    Argentina   100620   \n",
       "\n",
       "                                      CmdDesc  PrimaryValue  \n",
       "1  Cereals; rice in the husk (paddy or rough)      8479.117  \n",
       "2  Cereals; rice in the husk (paddy or rough)      2400.542  \n",
       "3  Cereals; rice in the husk (paddy or rough)     32479.122  \n",
       "4  Cereals; rice in the husk (paddy or rough)      1166.403  \n",
       "6                Cereals; husked (brown) rice   2079022.784  "
      ]
     },
     "execution_count": 557,
     "metadata": {},
     "output_type": "execute_result"
    }
   ],
   "source": [
    "# Removing irrelevant data 'World'\n",
    "rice = rice[rice[PARTNER] != 'World']\n",
    "rice.head()"
   ]
  },
  {
   "cell_type": "code",
   "execution_count": 558,
   "metadata": {},
   "outputs": [
    {
     "data": {
      "text/html": [
       "<div>\n",
       "<style scoped>\n",
       "    .dataframe tbody tr th:only-of-type {\n",
       "        vertical-align: middle;\n",
       "    }\n",
       "\n",
       "    .dataframe tbody tr th {\n",
       "        vertical-align: top;\n",
       "    }\n",
       "\n",
       "    .dataframe thead th {\n",
       "        text-align: right;\n",
       "    }\n",
       "</style>\n",
       "<table border=\"1\" class=\"dataframe\">\n",
       "  <thead>\n",
       "    <tr style=\"text-align: right;\">\n",
       "      <th></th>\n",
       "      <th>RefYear</th>\n",
       "      <th>Period</th>\n",
       "      <th>FlowDesc</th>\n",
       "      <th>PartnerDesc</th>\n",
       "      <th>CmdCode</th>\n",
       "      <th>CmdDesc</th>\n",
       "      <th>PrimaryValue</th>\n",
       "    </tr>\n",
       "  </thead>\n",
       "  <tbody>\n",
       "  </tbody>\n",
       "</table>\n",
       "</div>"
      ],
      "text/plain": [
       "Empty DataFrame\n",
       "Columns: [RefYear, Period, FlowDesc, PartnerDesc, CmdCode, CmdDesc, PrimaryValue]\n",
       "Index: []"
      ]
     },
     "execution_count": 558,
     "metadata": {},
     "output_type": "execute_result"
    }
   ],
   "source": [
    "# Check if there are any missing values\n",
    "rice[pd.isnull(rice).any(axis=1)]"
   ]
  },
  {
   "cell_type": "code",
   "execution_count": 559,
   "metadata": {},
   "outputs": [
    {
     "data": {
      "text/html": [
       "<div>\n",
       "<style scoped>\n",
       "    .dataframe tbody tr th:only-of-type {\n",
       "        vertical-align: middle;\n",
       "    }\n",
       "\n",
       "    .dataframe tbody tr th {\n",
       "        vertical-align: top;\n",
       "    }\n",
       "\n",
       "    .dataframe thead th {\n",
       "        text-align: right;\n",
       "    }\n",
       "</style>\n",
       "<table border=\"1\" class=\"dataframe\">\n",
       "  <thead>\n",
       "    <tr style=\"text-align: right;\">\n",
       "      <th></th>\n",
       "      <th>CmdCode</th>\n",
       "      <th>CmdDesc</th>\n",
       "    </tr>\n",
       "  </thead>\n",
       "  <tbody>\n",
       "    <tr>\n",
       "      <th>0</th>\n",
       "      <td>100610</td>\n",
       "      <td>Cereals; rice in the husk (paddy or rough)</td>\n",
       "    </tr>\n",
       "    <tr>\n",
       "      <th>1</th>\n",
       "      <td>100620</td>\n",
       "      <td>Cereals; husked (brown) rice</td>\n",
       "    </tr>\n",
       "    <tr>\n",
       "      <th>2</th>\n",
       "      <td>100630</td>\n",
       "      <td>Cereals; rice, semi-milled or wholly milled, w...</td>\n",
       "    </tr>\n",
       "    <tr>\n",
       "      <th>3</th>\n",
       "      <td>100640</td>\n",
       "      <td>Cereals; rice, broken</td>\n",
       "    </tr>\n",
       "  </tbody>\n",
       "</table>\n",
       "</div>"
      ],
      "text/plain": [
       "   CmdCode                                            CmdDesc\n",
       "0   100610         Cereals; rice in the husk (paddy or rough)\n",
       "1   100620                       Cereals; husked (brown) rice\n",
       "2   100630  Cereals; rice, semi-milled or wholly milled, w...\n",
       "3   100640                              Cereals; rice, broken"
      ]
     },
     "execution_count": 559,
     "metadata": {},
     "output_type": "execute_result"
    }
   ],
   "source": [
    "# Check the rice type and code\n",
    "rice_code = [CODE, RICE]\n",
    "rice[rice_code].apply(lambda x: x.unique())"
   ]
  },
  {
   "cell_type": "code",
   "execution_count": 560,
   "metadata": {
    "activity": false
   },
   "outputs": [
    {
     "data": {
      "text/html": [
       "<div>\n",
       "<style scoped>\n",
       "    .dataframe tbody tr th:only-of-type {\n",
       "        vertical-align: middle;\n",
       "    }\n",
       "\n",
       "    .dataframe tbody tr th {\n",
       "        vertical-align: top;\n",
       "    }\n",
       "\n",
       "    .dataframe thead th {\n",
       "        text-align: right;\n",
       "    }\n",
       "</style>\n",
       "<table border=\"1\" class=\"dataframe\">\n",
       "  <thead>\n",
       "    <tr style=\"text-align: right;\">\n",
       "      <th></th>\n",
       "      <th>RefYear</th>\n",
       "      <th>Period</th>\n",
       "      <th>FlowDesc</th>\n",
       "      <th>PartnerDesc</th>\n",
       "      <th>CmdCode</th>\n",
       "      <th>CmdDesc</th>\n",
       "      <th>PrimaryValue</th>\n",
       "      <th>RiceType</th>\n",
       "    </tr>\n",
       "  </thead>\n",
       "  <tbody>\n",
       "    <tr>\n",
       "      <th>1</th>\n",
       "      <td>2022</td>\n",
       "      <td>202201</td>\n",
       "      <td>Import</td>\n",
       "      <td>Bangladesh</td>\n",
       "      <td>100610</td>\n",
       "      <td>Cereals; rice in the husk (paddy or rough)</td>\n",
       "      <td>8479.117</td>\n",
       "      <td>rough</td>\n",
       "    </tr>\n",
       "    <tr>\n",
       "      <th>2</th>\n",
       "      <td>2022</td>\n",
       "      <td>202201</td>\n",
       "      <td>Import</td>\n",
       "      <td>Iran</td>\n",
       "      <td>100610</td>\n",
       "      <td>Cereals; rice in the husk (paddy or rough)</td>\n",
       "      <td>2400.542</td>\n",
       "      <td>rough</td>\n",
       "    </tr>\n",
       "    <tr>\n",
       "      <th>3</th>\n",
       "      <td>2022</td>\n",
       "      <td>202201</td>\n",
       "      <td>Import</td>\n",
       "      <td>Ireland</td>\n",
       "      <td>100610</td>\n",
       "      <td>Cereals; rice in the husk (paddy or rough)</td>\n",
       "      <td>32479.122</td>\n",
       "      <td>rough</td>\n",
       "    </tr>\n",
       "  </tbody>\n",
       "</table>\n",
       "</div>"
      ],
      "text/plain": [
       "   RefYear  Period FlowDesc PartnerDesc  CmdCode  \\\n",
       "1     2022  202201   Import  Bangladesh   100610   \n",
       "2     2022  202201   Import        Iran   100610   \n",
       "3     2022  202201   Import     Ireland   100610   \n",
       "\n",
       "                                      CmdDesc  PrimaryValue RiceType  \n",
       "1  Cereals; rice in the husk (paddy or rough)      8479.117    rough  \n",
       "2  Cereals; rice in the husk (paddy or rough)      2400.542    rough  \n",
       "3  Cereals; rice in the husk (paddy or rough)     32479.122    rough  "
      ]
     },
     "execution_count": 560,
     "metadata": {},
     "output_type": "execute_result"
    }
   ],
   "source": [
    "# Define a function that takes a code as input and returns a corresponding rice type\n",
    "def riceType(code):\n",
    "    if code == 100610: # Cereals; rice in the husk (paddy or rough)\n",
    "        return 'rough' \n",
    "    if code == 100620: # Cereals; husked (brown) rice\n",
    "        return 'brown'\n",
    "    if code == 100630: # Cereals; rice, semi-milled or wholly milled, whether or not polished or glazed\n",
    "        return 'milled'\n",
    "    if code == 100640: # Cereals; rice, broken\n",
    "        return 'broken'\n",
    "    return 'unknown'\n",
    "\n",
    "rice['RiceType'] = rice[CODE].apply(riceType)\n",
    "RICE = 'RiceType'\n",
    "rice.head(3)"
   ]
  },
  {
   "cell_type": "markdown",
   "metadata": {},
   "source": [
    "## Total trade flow\n",
    "\n",
    "To answer the research questions, the dataframe is split into two groups: exports from the UK and imports into the UK. The  trade values within each group are summed up to get the total trading."
   ]
  },
  {
   "cell_type": "code",
   "execution_count": 561,
   "metadata": {},
   "outputs": [
    {
     "data": {
      "text/plain": [
       "dict_keys(['Export', 'Import'])"
      ]
     },
     "execution_count": 561,
     "metadata": {},
     "output_type": "execute_result"
    }
   ],
   "source": [
    "g_flow = rice.groupby(FLOW)\n",
    "g_flow.groups.keys()"
   ]
  },
  {
   "cell_type": "code",
   "execution_count": 562,
   "metadata": {},
   "outputs": [],
   "source": [
    "# Create two datasets: Import and Export\n",
    "rice_import = g_flow.get_group('Import')\n",
    "rice_export = g_flow.get_group('Export')"
   ]
  },
  {
   "cell_type": "code",
   "execution_count": 563,
   "metadata": {},
   "outputs": [
    {
     "data": {
      "image/png": "[encoded data removed]",
      "text/plain": [
       "<Figure size 640x480 with 1 Axes>"
      ]
     },
     "metadata": {},
     "output_type": "display_data"
    }
   ],
   "source": [
    "# Import data: Group by partner\n",
    "rice_import.groupby([PARTNER, RICE])[VALUE].aggregate(sum).sort_values(ascending=False).head(5).plot(kind='bar')\n",
    "plt.xlabel('Partner Countires and Rice Types')\n",
    "plt.ylabel('Primary Values (USD)')\n",
    "plt.title('Top 5 Import Partners for Rice Trade in 2022')\n",
    "plt.show()"
   ]
  },
  {
   "cell_type": "markdown",
   "metadata": {},
   "source": [
    "Answer the research question 1 and 3:\n",
    "The best partner country and most popular rice type for import in 2022 were India and brown rice. Importing brown rice and milled rice from Pakistan and Itally respectively was also popular."
   ]
  },
  {
   "cell_type": "code",
   "execution_count": 564,
   "metadata": {},
   "outputs": [
    {
     "data": {
      "image/png": "[encoded data removed]",
      "text/plain": [
       "<Figure size 640x480 with 1 Axes>"
      ]
     },
     "metadata": {},
     "output_type": "display_data"
    }
   ],
   "source": [
    "# Export data: Group by partner\n",
    "rice_export.groupby([PARTNER, RICE])[VALUE].aggregate(sum).sort_values(ascending=False).head(5).plot(kind='bar')\n",
    "plt.xlabel('Partner Countires and Rice Types')\n",
    "plt.ylabel('Primary Values (USD)')\n",
    "plt.title('Top 5 Export Partners for Rice Trade in 2022')\n",
    "plt.show()"
   ]
  },
  {
   "cell_type": "markdown",
   "metadata": {},
   "source": [
    "Answer the research question 2 and 3:\n",
    "The UK export rice and milled rice is popular for the export. The best partner country and most popular rice type for rice export in 2022 were Ireland and milled rice. Besides Ireland, Netherland and France were also string partner. "
   ]
  },
  {
   "cell_type": "code",
   "execution_count": 565,
   "metadata": {},
   "outputs": [],
   "source": [
    "# Rounds the given value to the nearest thousand\n",
    "def roundToThousands (value):\n",
    "    return round(value / 1000)"
   ]
  },
  {
   "cell_type": "code",
   "execution_count": 566,
   "metadata": {
    "activity": false
   },
   "outputs": [
    {
     "data": {
      "text/plain": [
       "FlowDesc\n",
       "Export     56988\n",
       "Import    604831\n",
       "Name: PrimaryValue, dtype: int64"
      ]
     },
     "execution_count": 566,
     "metadata": {},
     "output_type": "execute_result"
    }
   ],
   "source": [
    "# Group the data by FLOW (import or export) and aggregate the values\n",
    "grouped = rice.groupby([FLOW])\n",
    "grouped[VALUE].aggregate(sum).apply(roundToThousands)"
   ]
  },
  {
   "cell_type": "code",
   "execution_count": 567,
   "metadata": {},
   "outputs": [
    {
     "data": {
      "text/plain": [
       "<Axes: ylabel='FlowDesc'>"
      ]
     },
     "execution_count": 567,
     "metadata": {},
     "output_type": "execute_result"
    },
    {
     "data": {
      "image/png": "[encoded data removed]",
      "text/plain": [
       "<Figure size 640x480 with 1 Axes>"
      ]
     },
     "metadata": {},
     "output_type": "display_data"
    }
   ],
   "source": [
    "# Plot the aggregated values \n",
    "grouped[VALUE].aggregate(sum).plot(kind='barh')"
   ]
  },
  {
   "cell_type": "markdown",
   "metadata": {},
   "source": [
    "The above bar charts show that imports exceed exports, indicating the UK has a rice trade deficit, with its trade balance being negative by approximately 550 thousand US dollars (604831-56988). \n",
    "\n",
    "Among imported rice, milled and brown rice make up the majority, but only milled rice comprises the majority of exports.\n",
    "\n",
    "It can be assumed that the UK does not grow rice domestically, but conducts a processing trade using imported rice, such as brown rice, and exports milled rice to other countries, mainly in Europe."
   ]
  },
  {
   "cell_type": "markdown",
   "metadata": {},
   "source": [
    "## Additional Analysis\n",
    "Out of my curiosity, I would like to investigate whether there are any seasonal trends in import behavior."
   ]
  },
  {
   "cell_type": "code",
   "execution_count": 568,
   "metadata": {},
   "outputs": [
    {
     "data": {
      "text/html": [
       "<div>\n",
       "<style scoped>\n",
       "    .dataframe tbody tr th:only-of-type {\n",
       "        vertical-align: middle;\n",
       "    }\n",
       "\n",
       "    .dataframe tbody tr th {\n",
       "        vertical-align: top;\n",
       "    }\n",
       "\n",
       "    .dataframe thead th {\n",
       "        text-align: right;\n",
       "    }\n",
       "</style>\n",
       "<table border=\"1\" class=\"dataframe\">\n",
       "  <thead>\n",
       "    <tr style=\"text-align: right;\">\n",
       "      <th></th>\n",
       "      <th></th>\n",
       "      <th></th>\n",
       "      <th>sum</th>\n",
       "      <th>min</th>\n",
       "      <th>max</th>\n",
       "      <th>mean</th>\n",
       "    </tr>\n",
       "    <tr>\n",
       "      <th>FlowDesc</th>\n",
       "      <th>RiceType</th>\n",
       "      <th>Period</th>\n",
       "      <th></th>\n",
       "      <th></th>\n",
       "      <th></th>\n",
       "      <th></th>\n",
       "    </tr>\n",
       "  </thead>\n",
       "  <tbody>\n",
       "    <tr>\n",
       "      <th rowspan=\"5\" valign=\"top\">Export</th>\n",
       "      <th rowspan=\"5\" valign=\"top\">broken</th>\n",
       "      <th>202201</th>\n",
       "      <td>70016.722</td>\n",
       "      <td>21.675</td>\n",
       "      <td>41192.603</td>\n",
       "      <td>7001.672200</td>\n",
       "    </tr>\n",
       "    <tr>\n",
       "      <th>202202</th>\n",
       "      <td>138394.860</td>\n",
       "      <td>83.914</td>\n",
       "      <td>57936.006</td>\n",
       "      <td>13839.486000</td>\n",
       "    </tr>\n",
       "    <tr>\n",
       "      <th>202203</th>\n",
       "      <td>148403.280</td>\n",
       "      <td>14.493</td>\n",
       "      <td>46531.747</td>\n",
       "      <td>18550.410000</td>\n",
       "    </tr>\n",
       "    <tr>\n",
       "      <th>202204</th>\n",
       "      <td>135029.882</td>\n",
       "      <td>34.939</td>\n",
       "      <td>52841.887</td>\n",
       "      <td>12275.443818</td>\n",
       "    </tr>\n",
       "    <tr>\n",
       "      <th>202205</th>\n",
       "      <td>127872.815</td>\n",
       "      <td>4.976</td>\n",
       "      <td>35320.216</td>\n",
       "      <td>11624.801364</td>\n",
       "    </tr>\n",
       "    <tr>\n",
       "      <th>...</th>\n",
       "      <th>...</th>\n",
       "      <th>...</th>\n",
       "      <td>...</td>\n",
       "      <td>...</td>\n",
       "      <td>...</td>\n",
       "      <td>...</td>\n",
       "    </tr>\n",
       "    <tr>\n",
       "      <th rowspan=\"5\" valign=\"top\">Import</th>\n",
       "      <th rowspan=\"5\" valign=\"top\">rough</th>\n",
       "      <th>202208</th>\n",
       "      <td>12570.657</td>\n",
       "      <td>5313.185</td>\n",
       "      <td>7257.472</td>\n",
       "      <td>6285.328500</td>\n",
       "    </tr>\n",
       "    <tr>\n",
       "      <th>202209</th>\n",
       "      <td>46537.142</td>\n",
       "      <td>2556.973</td>\n",
       "      <td>19502.723</td>\n",
       "      <td>7756.190333</td>\n",
       "    </tr>\n",
       "    <tr>\n",
       "      <th>202210</th>\n",
       "      <td>12676.238</td>\n",
       "      <td>572.650</td>\n",
       "      <td>9466.235</td>\n",
       "      <td>4225.412667</td>\n",
       "    </tr>\n",
       "    <tr>\n",
       "      <th>202211</th>\n",
       "      <td>30099.152</td>\n",
       "      <td>3305.992</td>\n",
       "      <td>19799.671</td>\n",
       "      <td>10033.050667</td>\n",
       "    </tr>\n",
       "    <tr>\n",
       "      <th>202212</th>\n",
       "      <td>21636.209</td>\n",
       "      <td>310.065</td>\n",
       "      <td>10698.473</td>\n",
       "      <td>5409.052250</td>\n",
       "    </tr>\n",
       "  </tbody>\n",
       "</table>\n",
       "<p>96 rows × 4 columns</p>\n",
       "</div>"
      ],
      "text/plain": [
       "                                 sum       min        max          mean\n",
       "FlowDesc RiceType Period                                               \n",
       "Export   broken   202201   70016.722    21.675  41192.603   7001.672200\n",
       "                  202202  138394.860    83.914  57936.006  13839.486000\n",
       "                  202203  148403.280    14.493  46531.747  18550.410000\n",
       "                  202204  135029.882    34.939  52841.887  12275.443818\n",
       "                  202205  127872.815     4.976  35320.216  11624.801364\n",
       "...                              ...       ...        ...           ...\n",
       "Import   rough    202208   12570.657  5313.185   7257.472   6285.328500\n",
       "                  202209   46537.142  2556.973  19502.723   7756.190333\n",
       "                  202210   12676.238   572.650   9466.235   4225.412667\n",
       "                  202211   30099.152  3305.992  19799.671  10033.050667\n",
       "                  202212   21636.209   310.065  10698.473   5409.052250\n",
       "\n",
       "[96 rows x 4 columns]"
      ]
     },
     "execution_count": 568,
     "metadata": {},
     "output_type": "execute_result"
    }
   ],
   "source": [
    "# Examine monthly. Which months saw the largest total value on average of imports, or exports?\n",
    "g_month = [FLOW, RICE, MONTH]\n",
    "rice.groupby(g_month)[VALUE].aggregate([sum, min, max, np.mean])"
   ]
  },
  {
   "cell_type": "code",
   "execution_count": 569,
   "metadata": {},
   "outputs": [
    {
     "data": {
      "image/png": "[encoded data removed]",
      "text/plain": [
       "<Figure size 640x480 with 1 Axes>"
      ]
     },
     "metadata": {},
     "output_type": "display_data"
    }
   ],
   "source": [
    "# Visualise the above import data using import mean\n",
    "rice_import.groupby([MONTH, RICE])[VALUE].mean().unstack(RICE).plot(kind='line', marker='o', linewidth=2)\n",
    "plt.xlabel('Month')\n",
    "plt.ylabel('Mean Value')\n",
    "plt.title('Rice Import by Month')\n",
    "plt.legend(title='Rice Type')\n",
    "plt.show()"
   ]
  },
  {
   "cell_type": "markdown",
   "metadata": {},
   "source": [
    "For imported rice, brown rice performed best, followed by polished rice. Both brown and milled rice varied widely from month to month. The peaks were in July and May respectively. On the other hand, rough rice has remained consistently low around 0 from month to month. The value of crushed rice dropped significantly from 0.75 to 0.1 since January and recovered slightly in August and December."
   ]
  },
  {
   "cell_type": "code",
   "execution_count": 570,
   "metadata": {},
   "outputs": [
    {
     "data": {
      "image/png": "[encoded data removed]",
      "text/plain": [
       "<Figure size 640x480 with 1 Axes>"
      ]
     },
     "metadata": {},
     "output_type": "display_data"
    }
   ],
   "source": [
    "# Visualise the above export data using mean\n",
    "rice_export.groupby([MONTH, RICE])[VALUE].mean().unstack(RICE).plot(kind='line', marker='o', linewidth=2)\n",
    "plt.xlabel('Month')\n",
    "plt.ylabel('Mean Value')\n",
    "plt.title('Rice Export by Month')\n",
    "plt.legend(title='Rice Type')\n",
    "plt.show()"
   ]
  },
  {
   "cell_type": "markdown",
   "metadata": {},
   "source": [
    "In export rice, milled rice performed exceptionally well, with prices rising from 110,000 to 190,000 between January and June. It then dropped initially to the same value as in January in September, but gradually recovered and by December had recovered rapidly to 240,000. Average values for other types of rice remained very low, ranging from 0 to 30 000, and varied slightly from month to month."
   ]
  },
  {
   "cell_type": "markdown",
   "metadata": {},
   "source": [
    "Are there any countries that trade rice regularly but not in high volumes (frequent small volume trade) or vice versa (infrequent but high volume trade)?\n",
    "\n",
    "Define \"frequent\" and \"infrequent\":\n",
    "    \"frequent\" means trading rice more than 10 months in a year\n",
    "    \"infrequent\" means trading rice less than 5 months in a year\n",
    "\n",
    "Define \"high\" and \"low\" volumes:\n",
    "    \"high\" means the total trading values were more than 1,000,000 USD.\n",
    "    \"low\" means the total trading values were less than 100,000 USD."
   ]
  },
  {
   "cell_type": "code",
   "execution_count": 571,
   "metadata": {},
   "outputs": [
    {
     "data": {
      "text/html": [
       "<div>\n",
       "<style scoped>\n",
       "    .dataframe tbody tr th:only-of-type {\n",
       "        vertical-align: middle;\n",
       "    }\n",
       "\n",
       "    .dataframe tbody tr th {\n",
       "        vertical-align: top;\n",
       "    }\n",
       "\n",
       "    .dataframe thead th {\n",
       "        text-align: right;\n",
       "    }\n",
       "</style>\n",
       "<table border=\"1\" class=\"dataframe\">\n",
       "  <thead>\n",
       "    <tr style=\"text-align: right;\">\n",
       "      <th></th>\n",
       "      <th>FlowDesc</th>\n",
       "      <th>Export</th>\n",
       "      <th>Import</th>\n",
       "    </tr>\n",
       "    <tr>\n",
       "      <th>PartnerDesc</th>\n",
       "      <th>RiceType</th>\n",
       "      <th></th>\n",
       "      <th></th>\n",
       "    </tr>\n",
       "  </thead>\n",
       "  <tbody>\n",
       "    <tr>\n",
       "      <th rowspan=\"2\" valign=\"top\">Argentina</th>\n",
       "      <th>brown</th>\n",
       "      <td>3674.417</td>\n",
       "      <td>NaN</td>\n",
       "    </tr>\n",
       "    <tr>\n",
       "      <th>milled</th>\n",
       "      <td>8133.761</td>\n",
       "      <td>NaN</td>\n",
       "    </tr>\n",
       "    <tr>\n",
       "      <th rowspan=\"2\" valign=\"top\">China, Hong Kong SAR</th>\n",
       "      <th>milled</th>\n",
       "      <td>63505.504</td>\n",
       "      <td>NaN</td>\n",
       "    </tr>\n",
       "    <tr>\n",
       "      <th>rough</th>\n",
       "      <td>9371.538</td>\n",
       "      <td>NaN</td>\n",
       "    </tr>\n",
       "    <tr>\n",
       "      <th rowspan=\"2\" valign=\"top\">Greece</th>\n",
       "      <th>brown</th>\n",
       "      <td>2936.834</td>\n",
       "      <td>NaN</td>\n",
       "    </tr>\n",
       "    <tr>\n",
       "      <th>milled</th>\n",
       "      <td>81095.411</td>\n",
       "      <td>NaN</td>\n",
       "    </tr>\n",
       "    <tr>\n",
       "      <th rowspan=\"4\" valign=\"top\">Iran</th>\n",
       "      <th>broken</th>\n",
       "      <td>NaN</td>\n",
       "      <td>16172.581</td>\n",
       "    </tr>\n",
       "    <tr>\n",
       "      <th>brown</th>\n",
       "      <td>NaN</td>\n",
       "      <td>2235.504</td>\n",
       "    </tr>\n",
       "    <tr>\n",
       "      <th>milled</th>\n",
       "      <td>NaN</td>\n",
       "      <td>58089.758</td>\n",
       "    </tr>\n",
       "    <tr>\n",
       "      <th>rough</th>\n",
       "      <td>NaN</td>\n",
       "      <td>9056.061</td>\n",
       "    </tr>\n",
       "    <tr>\n",
       "      <th>Pakistan</th>\n",
       "      <th>milled</th>\n",
       "      <td>10196.817</td>\n",
       "      <td>NaN</td>\n",
       "    </tr>\n",
       "    <tr>\n",
       "      <th rowspan=\"3\" valign=\"top\">Poland</th>\n",
       "      <th>brown</th>\n",
       "      <td>NaN</td>\n",
       "      <td>1205.009</td>\n",
       "    </tr>\n",
       "    <tr>\n",
       "      <th>milled</th>\n",
       "      <td>NaN</td>\n",
       "      <td>69505.492</td>\n",
       "    </tr>\n",
       "    <tr>\n",
       "      <th>rough</th>\n",
       "      <td>NaN</td>\n",
       "      <td>13729.245</td>\n",
       "    </tr>\n",
       "  </tbody>\n",
       "</table>\n",
       "</div>"
      ],
      "text/plain": [
       "FlowDesc                          Export     Import\n",
       "PartnerDesc          RiceType                      \n",
       "Argentina            brown      3674.417        NaN\n",
       "                     milled     8133.761        NaN\n",
       "China, Hong Kong SAR milled    63505.504        NaN\n",
       "                     rough      9371.538        NaN\n",
       "Greece               brown      2936.834        NaN\n",
       "                     milled    81095.411        NaN\n",
       "Iran                 broken          NaN  16172.581\n",
       "                     brown           NaN   2235.504\n",
       "                     milled          NaN  58089.758\n",
       "                     rough           NaN   9056.061\n",
       "Pakistan             milled    10196.817        NaN\n",
       "Poland               brown           NaN   1205.009\n",
       "                     milled          NaN  69505.492\n",
       "                     rough           NaN  13729.245"
      ]
     },
     "execution_count": 571,
     "metadata": {},
     "output_type": "execute_result"
    }
   ],
   "source": [
    "# Filter the \"frequent\" & \"low\" partners in import dataset\n",
    "def frequentLow (group):\n",
    "    return len(group) >= 10 and group[VALUE].sum() < 100000 \n",
    "\n",
    "regularWeak = rice.groupby([PARTNER, FLOW]).filter(frequentLow)\n",
    "\n",
    "report_regularWeak = pd.pivot_table(regularWeak,\n",
    "                                    index= [PARTNER, RICE],\n",
    "                                    columns=FLOW,\n",
    "                                    values=VALUE,\n",
    "                                    aggfunc=sum)\n",
    "report_regularWeak"
   ]
  },
  {
   "cell_type": "code",
   "execution_count": 572,
   "metadata": {},
   "outputs": [
    {
     "data": {
      "text/plain": [
       "<Axes: ylabel='PartnerDesc,RiceType'>"
      ]
     },
     "execution_count": 572,
     "metadata": {},
     "output_type": "execute_result"
    },
    {
     "data": {
      "image/png": "[encoded data removed]",
      "text/plain": [
       "<Figure size 640x480 with 1 Axes>"
      ]
     },
     "metadata": {},
     "output_type": "display_data"
    }
   ],
   "source": [
    "report_regularWeak.plot(kind='barh')"
   ]
  },
  {
   "cell_type": "code",
   "execution_count": 573,
   "metadata": {},
   "outputs": [
    {
     "data": {
      "text/html": [
       "<div>\n",
       "<style scoped>\n",
       "    .dataframe tbody tr th:only-of-type {\n",
       "        vertical-align: middle;\n",
       "    }\n",
       "\n",
       "    .dataframe tbody tr th {\n",
       "        vertical-align: top;\n",
       "    }\n",
       "\n",
       "    .dataframe thead th {\n",
       "        text-align: right;\n",
       "    }\n",
       "</style>\n",
       "<table border=\"1\" class=\"dataframe\">\n",
       "  <thead>\n",
       "    <tr style=\"text-align: right;\">\n",
       "      <th></th>\n",
       "      <th>FlowDesc</th>\n",
       "      <th>Import</th>\n",
       "    </tr>\n",
       "    <tr>\n",
       "      <th>PartnerDesc</th>\n",
       "      <th>RiceType</th>\n",
       "      <th></th>\n",
       "    </tr>\n",
       "  </thead>\n",
       "  <tbody>\n",
       "    <tr>\n",
       "      <th rowspan=\"2\" valign=\"top\">Russian Federation</th>\n",
       "      <th>broken</th>\n",
       "      <td>1246789.028</td>\n",
       "    </tr>\n",
       "    <tr>\n",
       "      <th>milled</th>\n",
       "      <td>1143.264</td>\n",
       "    </tr>\n",
       "  </tbody>\n",
       "</table>\n",
       "</div>"
      ],
      "text/plain": [
       "FlowDesc                          Import\n",
       "PartnerDesc        RiceType             \n",
       "Russian Federation broken    1246789.028\n",
       "                   milled       1143.264"
      ]
     },
     "execution_count": 573,
     "metadata": {},
     "output_type": "execute_result"
    }
   ],
   "source": [
    "# Filter the \"infrequent\" & \"high\" partners in import dataset\n",
    "def infrequentHigh (group):\n",
    "    return len(group) < 5 and group[VALUE].sum() > 1000000\n",
    "\n",
    "irregularStrong = rice.groupby([PARTNER, FLOW]).filter(infrequentHigh)\n",
    "\n",
    "report_irregularStrong = pd.pivot_table(irregularStrong,\n",
    "                                        index=[PARTNER, RICE],\n",
    "                                        columns = FLOW,\n",
    "                                        values = VALUE, \n",
    "                                        aggfunc=sum)\n",
    "report_irregularStrong"
   ]
  },
  {
   "cell_type": "code",
   "execution_count": 574,
   "metadata": {},
   "outputs": [
    {
     "data": {
      "text/plain": [
       "<Axes: ylabel='PartnerDesc,RiceType'>"
      ]
     },
     "execution_count": 574,
     "metadata": {},
     "output_type": "execute_result"
    },
    {
     "data": {
      "image/png": "[encoded data removed]",
      "text/plain": [
       "<Figure size 640x480 with 1 Axes>"
      ]
     },
     "metadata": {},
     "output_type": "display_data"
    }
   ],
   "source": [
    "report_irregularStrong.plot(kind='barh')"
   ]
  },
  {
   "cell_type": "markdown",
   "metadata": {},
   "source": [
    "Which countries does the UK both import from and export to?', a pivot table is used to list the total export and import value for each country. "
   ]
  },
  {
   "cell_type": "code",
   "execution_count": 575,
   "metadata": {
    "activity": false
   },
   "outputs": [
    {
     "data": {
      "text/html": [
       "<div>\n",
       "<style scoped>\n",
       "    .dataframe tbody tr th:only-of-type {\n",
       "        vertical-align: middle;\n",
       "    }\n",
       "\n",
       "    .dataframe tbody tr th {\n",
       "        vertical-align: top;\n",
       "    }\n",
       "\n",
       "    .dataframe thead th {\n",
       "        text-align: right;\n",
       "    }\n",
       "</style>\n",
       "<table border=\"1\" class=\"dataframe\">\n",
       "  <thead>\n",
       "    <tr style=\"text-align: right;\">\n",
       "      <th>FlowDesc</th>\n",
       "      <th>Export</th>\n",
       "      <th>Import</th>\n",
       "    </tr>\n",
       "    <tr>\n",
       "      <th>PartnerDesc</th>\n",
       "      <th></th>\n",
       "      <th></th>\n",
       "    </tr>\n",
       "  </thead>\n",
       "  <tbody>\n",
       "    <tr>\n",
       "      <th>Antarctica</th>\n",
       "      <td>17417.400</td>\n",
       "      <td>NaN</td>\n",
       "    </tr>\n",
       "    <tr>\n",
       "      <th>Areas, nes</th>\n",
       "      <td>3326775.751</td>\n",
       "      <td>NaN</td>\n",
       "    </tr>\n",
       "    <tr>\n",
       "      <th>Argentina</th>\n",
       "      <td>11808.178</td>\n",
       "      <td>1.553813e+07</td>\n",
       "    </tr>\n",
       "    <tr>\n",
       "      <th>Australia</th>\n",
       "      <td>161640.196</td>\n",
       "      <td>2.879119e+06</td>\n",
       "    </tr>\n",
       "    <tr>\n",
       "      <th>Austria</th>\n",
       "      <td>154112.827</td>\n",
       "      <td>2.075998e+03</td>\n",
       "    </tr>\n",
       "    <tr>\n",
       "      <th>...</th>\n",
       "      <td>...</td>\n",
       "      <td>...</td>\n",
       "    </tr>\n",
       "    <tr>\n",
       "      <th>Ukraine</th>\n",
       "      <td>NaN</td>\n",
       "      <td>6.403676e+03</td>\n",
       "    </tr>\n",
       "    <tr>\n",
       "      <th>United Arab Emirates</th>\n",
       "      <td>270969.775</td>\n",
       "      <td>2.875990e+06</td>\n",
       "    </tr>\n",
       "    <tr>\n",
       "      <th>Uruguay</th>\n",
       "      <td>NaN</td>\n",
       "      <td>4.065984e+07</td>\n",
       "    </tr>\n",
       "    <tr>\n",
       "      <th>Viet Nam</th>\n",
       "      <td>6330.702</td>\n",
       "      <td>3.652824e+06</td>\n",
       "    </tr>\n",
       "    <tr>\n",
       "      <th>Yemen</th>\n",
       "      <td>28136.893</td>\n",
       "      <td>NaN</td>\n",
       "    </tr>\n",
       "  </tbody>\n",
       "</table>\n",
       "<p>88 rows × 2 columns</p>\n",
       "</div>"
      ],
      "text/plain": [
       "FlowDesc                   Export        Import\n",
       "PartnerDesc                                    \n",
       "Antarctica              17417.400           NaN\n",
       "Areas, nes            3326775.751           NaN\n",
       "Argentina               11808.178  1.553813e+07\n",
       "Australia              161640.196  2.879119e+06\n",
       "Austria                154112.827  2.075998e+03\n",
       "...                           ...           ...\n",
       "Ukraine                       NaN  6.403676e+03\n",
       "United Arab Emirates   270969.775  2.875990e+06\n",
       "Uruguay                       NaN  4.065984e+07\n",
       "Viet Nam                 6330.702  3.652824e+06\n",
       "Yemen                   28136.893           NaN\n",
       "\n",
       "[88 rows x 2 columns]"
      ]
     },
     "execution_count": 575,
     "metadata": {},
     "output_type": "execute_result"
    }
   ],
   "source": [
    "countries = pd.pivot_table(rice, \n",
    "                           index=[PARTNER], \n",
    "                           columns=[FLOW], \n",
    "                           values=VALUE, \n",
    "                           aggfunc=sum)\n",
    "countries"
   ]
  },
  {
   "cell_type": "markdown",
   "metadata": {},
   "source": [
    "Removing the rows with a missing value will result in only those countries with bi-directional trade flow with the UK."
   ]
  },
  {
   "cell_type": "code",
   "execution_count": 576,
   "metadata": {
    "activity": false
   },
   "outputs": [
    {
     "data": {
      "text/html": [
       "<div>\n",
       "<style scoped>\n",
       "    .dataframe tbody tr th:only-of-type {\n",
       "        vertical-align: middle;\n",
       "    }\n",
       "\n",
       "    .dataframe tbody tr th {\n",
       "        vertical-align: top;\n",
       "    }\n",
       "\n",
       "    .dataframe thead th {\n",
       "        text-align: right;\n",
       "    }\n",
       "</style>\n",
       "<table border=\"1\" class=\"dataframe\">\n",
       "  <thead>\n",
       "    <tr style=\"text-align: right;\">\n",
       "      <th>FlowDesc</th>\n",
       "      <th>PartnerDesc</th>\n",
       "      <th>Export</th>\n",
       "      <th>Import</th>\n",
       "    </tr>\n",
       "  </thead>\n",
       "  <tbody>\n",
       "    <tr>\n",
       "      <th>0</th>\n",
       "      <td>Argentina</td>\n",
       "      <td>12.0</td>\n",
       "      <td>15538.0</td>\n",
       "    </tr>\n",
       "    <tr>\n",
       "      <th>1</th>\n",
       "      <td>Australia</td>\n",
       "      <td>162.0</td>\n",
       "      <td>2879.0</td>\n",
       "    </tr>\n",
       "    <tr>\n",
       "      <th>2</th>\n",
       "      <td>Austria</td>\n",
       "      <td>154.0</td>\n",
       "      <td>2.0</td>\n",
       "    </tr>\n",
       "    <tr>\n",
       "      <th>3</th>\n",
       "      <td>Bangladesh</td>\n",
       "      <td>0.0</td>\n",
       "      <td>688.0</td>\n",
       "    </tr>\n",
       "    <tr>\n",
       "      <th>4</th>\n",
       "      <td>Belgium</td>\n",
       "      <td>1640.0</td>\n",
       "      <td>1843.0</td>\n",
       "    </tr>\n",
       "    <tr>\n",
       "      <th>5</th>\n",
       "      <td>Bulgaria</td>\n",
       "      <td>6.0</td>\n",
       "      <td>162.0</td>\n",
       "    </tr>\n",
       "    <tr>\n",
       "      <th>6</th>\n",
       "      <td>Cambodia</td>\n",
       "      <td>0.0</td>\n",
       "      <td>15703.0</td>\n",
       "    </tr>\n",
       "    <tr>\n",
       "      <th>7</th>\n",
       "      <td>China, Hong Kong SAR</td>\n",
       "      <td>73.0</td>\n",
       "      <td>113.0</td>\n",
       "    </tr>\n",
       "    <tr>\n",
       "      <th>8</th>\n",
       "      <td>Egypt</td>\n",
       "      <td>9.0</td>\n",
       "      <td>7.0</td>\n",
       "    </tr>\n",
       "    <tr>\n",
       "      <th>9</th>\n",
       "      <td>France</td>\n",
       "      <td>11577.0</td>\n",
       "      <td>1118.0</td>\n",
       "    </tr>\n",
       "    <tr>\n",
       "      <th>10</th>\n",
       "      <td>Germany</td>\n",
       "      <td>4919.0</td>\n",
       "      <td>132.0</td>\n",
       "    </tr>\n",
       "    <tr>\n",
       "      <th>11</th>\n",
       "      <td>Greece</td>\n",
       "      <td>84.0</td>\n",
       "      <td>4529.0</td>\n",
       "    </tr>\n",
       "    <tr>\n",
       "      <th>12</th>\n",
       "      <td>India</td>\n",
       "      <td>1.0</td>\n",
       "      <td>161635.0</td>\n",
       "    </tr>\n",
       "    <tr>\n",
       "      <th>13</th>\n",
       "      <td>Ireland</td>\n",
       "      <td>13161.0</td>\n",
       "      <td>570.0</td>\n",
       "    </tr>\n",
       "    <tr>\n",
       "      <th>14</th>\n",
       "      <td>Israel</td>\n",
       "      <td>404.0</td>\n",
       "      <td>3.0</td>\n",
       "    </tr>\n",
       "    <tr>\n",
       "      <th>15</th>\n",
       "      <td>Italy</td>\n",
       "      <td>2746.0</td>\n",
       "      <td>82486.0</td>\n",
       "    </tr>\n",
       "    <tr>\n",
       "      <th>16</th>\n",
       "      <td>Latvia</td>\n",
       "      <td>42.0</td>\n",
       "      <td>25.0</td>\n",
       "    </tr>\n",
       "    <tr>\n",
       "      <th>17</th>\n",
       "      <td>Lebanon</td>\n",
       "      <td>1.0</td>\n",
       "      <td>31.0</td>\n",
       "    </tr>\n",
       "    <tr>\n",
       "      <th>18</th>\n",
       "      <td>Netherlands</td>\n",
       "      <td>12082.0</td>\n",
       "      <td>2578.0</td>\n",
       "    </tr>\n",
       "    <tr>\n",
       "      <th>19</th>\n",
       "      <td>Nigeria</td>\n",
       "      <td>32.0</td>\n",
       "      <td>6.0</td>\n",
       "    </tr>\n",
       "    <tr>\n",
       "      <th>20</th>\n",
       "      <td>Pakistan</td>\n",
       "      <td>10.0</td>\n",
       "      <td>100425.0</td>\n",
       "    </tr>\n",
       "    <tr>\n",
       "      <th>21</th>\n",
       "      <td>Poland</td>\n",
       "      <td>139.0</td>\n",
       "      <td>84.0</td>\n",
       "    </tr>\n",
       "    <tr>\n",
       "      <th>22</th>\n",
       "      <td>Portugal</td>\n",
       "      <td>31.0</td>\n",
       "      <td>5448.0</td>\n",
       "    </tr>\n",
       "    <tr>\n",
       "      <th>23</th>\n",
       "      <td>Romania</td>\n",
       "      <td>14.0</td>\n",
       "      <td>419.0</td>\n",
       "    </tr>\n",
       "    <tr>\n",
       "      <th>24</th>\n",
       "      <td>Russian Federation</td>\n",
       "      <td>2.0</td>\n",
       "      <td>1248.0</td>\n",
       "    </tr>\n",
       "    <tr>\n",
       "      <th>25</th>\n",
       "      <td>Saudi Arabia</td>\n",
       "      <td>13.0</td>\n",
       "      <td>18.0</td>\n",
       "    </tr>\n",
       "    <tr>\n",
       "      <th>26</th>\n",
       "      <td>Spain</td>\n",
       "      <td>734.0</td>\n",
       "      <td>50999.0</td>\n",
       "    </tr>\n",
       "    <tr>\n",
       "      <th>27</th>\n",
       "      <td>Sweden</td>\n",
       "      <td>833.0</td>\n",
       "      <td>6.0</td>\n",
       "    </tr>\n",
       "    <tr>\n",
       "      <th>28</th>\n",
       "      <td>Thailand</td>\n",
       "      <td>14.0</td>\n",
       "      <td>36141.0</td>\n",
       "    </tr>\n",
       "    <tr>\n",
       "      <th>29</th>\n",
       "      <td>Türkiye</td>\n",
       "      <td>20.0</td>\n",
       "      <td>3531.0</td>\n",
       "    </tr>\n",
       "    <tr>\n",
       "      <th>30</th>\n",
       "      <td>USA</td>\n",
       "      <td>126.0</td>\n",
       "      <td>18978.0</td>\n",
       "    </tr>\n",
       "    <tr>\n",
       "      <th>31</th>\n",
       "      <td>United Arab Emirates</td>\n",
       "      <td>271.0</td>\n",
       "      <td>2876.0</td>\n",
       "    </tr>\n",
       "    <tr>\n",
       "      <th>32</th>\n",
       "      <td>Viet Nam</td>\n",
       "      <td>6.0</td>\n",
       "      <td>3653.0</td>\n",
       "    </tr>\n",
       "  </tbody>\n",
       "</table>\n",
       "</div>"
      ],
      "text/plain": [
       "FlowDesc           PartnerDesc   Export    Import\n",
       "0                    Argentina     12.0   15538.0\n",
       "1                    Australia    162.0    2879.0\n",
       "2                      Austria    154.0       2.0\n",
       "3                   Bangladesh      0.0     688.0\n",
       "4                      Belgium   1640.0    1843.0\n",
       "5                     Bulgaria      6.0     162.0\n",
       "6                     Cambodia      0.0   15703.0\n",
       "7         China, Hong Kong SAR     73.0     113.0\n",
       "8                        Egypt      9.0       7.0\n",
       "9                       France  11577.0    1118.0\n",
       "10                     Germany   4919.0     132.0\n",
       "11                      Greece     84.0    4529.0\n",
       "12                       India      1.0  161635.0\n",
       "13                     Ireland  13161.0     570.0\n",
       "14                      Israel    404.0       3.0\n",
       "15                       Italy   2746.0   82486.0\n",
       "16                      Latvia     42.0      25.0\n",
       "17                     Lebanon      1.0      31.0\n",
       "18                 Netherlands  12082.0    2578.0\n",
       "19                     Nigeria     32.0       6.0\n",
       "20                    Pakistan     10.0  100425.0\n",
       "21                      Poland    139.0      84.0\n",
       "22                    Portugal     31.0    5448.0\n",
       "23                     Romania     14.0     419.0\n",
       "24          Russian Federation      2.0    1248.0\n",
       "25                Saudi Arabia     13.0      18.0\n",
       "26                       Spain    734.0   50999.0\n",
       "27                      Sweden    833.0       6.0\n",
       "28                    Thailand     14.0   36141.0\n",
       "29                     Türkiye     20.0    3531.0\n",
       "30                         USA    126.0   18978.0\n",
       "31        United Arab Emirates    271.0    2876.0\n",
       "32                    Viet Nam      6.0    3653.0"
      ]
     },
     "execution_count": 576,
     "metadata": {},
     "output_type": "execute_result"
    }
   ],
   "source": [
    "countries = countries.dropna().apply(roundToThousands)\n",
    "# Reset the pivot table to a regular DataFrame\n",
    "countries = countries.reset_index()\n",
    "countries"
   ]
  },
  {
   "cell_type": "code",
   "execution_count": 577,
   "metadata": {},
   "outputs": [
    {
     "data": {
      "image/png": "[encoded data removed]",
      "text/plain": [
       "<Figure size 640x480 with 1 Axes>"
      ]
     },
     "metadata": {},
     "output_type": "display_data"
    }
   ],
   "source": [
    "# Create the scatter plot\n",
    "plt.scatter(countries['Import'], countries['Export'])\n",
    "\n",
    "# Add nation names as annotations near the dots\n",
    "for i, (x, y, country) in enumerate(zip(countries['Import'], countries['Export'], countries[PARTNER])):\n",
    "    plt.annotate(country, (x, y), textcoords=\"offset points\", xytext=(5, 5), ha='center')\n",
    "\n",
    "# Set labels and title\n",
    "plt.xlabel(\"Import Value in USD\")\n",
    "plt.ylabel(\"Export Value in USD\")\n",
    "plt.title(\"Bi-directional trade\")\n",
    "\n",
    "# Show the plot\n",
    "plt.show()"
   ]
  },
  {
   "cell_type": "markdown",
   "metadata": {},
   "source": [
    "It appears the UK engages in bi-directional rice trade with 32 countries, although some of the values are quite low. As shown on the scatter plot, the UK both imports and exports a certain volume of rice to and from Italy, making it the country with the strongest two-way trade according to the available data. "
   ]
  },
  {
   "cell_type": "markdown",
   "metadata": {},
   "source": [
    "## Conclusions\n",
    "\n",
    "The rice trade of the UK from January to December 2022 was analyzed in terms of which countries and what type of rice the UK most relies upon for impots/exports. The three research questions were successfully answered as follow:\n",
    "\n",
    "1. Which countries import the most rice for the UK in 2022?\n",
    "\n",
    "    India. The UK regularly imports rice from South and Southeast Asian countries such as India, Pakistan, and Myanmar, with Italy serving as the most influential partner in Europe.\n",
    "\n",
    "2. Does UK export rice to other countries? If yes, which countries export the most rice for the UK in 2022?\n",
    "\n",
    "    Yes. The UK export rice most to Ireland. The UK does processed trade, importing brown rice from aforementioned countries and export milled rice to European countries such as France and Neetherland.\n",
    "\n",
    "3. What kinds of rice are most popular for import and export? \n",
    "\n",
    "    For import: Brown rice, For export: Milled rice\n",
    "\n",
    "\n",
    "The data also indicates several intersting insights.\n",
    "\n",
    "* Over this period, the UK had a rice trade deficit exceeding 550 thousand US dollars.\n",
    "\n",
    "* Bilateral rice trade was identified with 32 countries, though some values (in US dollars) were suspiciously low, warranting scrutiny of the data accuracy.\n",
    "\n",
    "However, these insights are limited by analyzing only 2022 data, which included missing values and questionable figures. A longitudinal study examining multi-year trade patterns could provide a more robust interpretation, particularly regarding impacts from events like the COVID-19 pandemic before and after 2019."
   ]
  }
 ],
 "metadata": {
  "kernelspec": {
   "display_name": "Python 3",
   "language": "python",
   "name": "python3"
  },
  "language_info": {
   "codemirror_mode": {
    "name": "ipython",
    "version": 3
   },
   "file_extension": ".py",
   "mimetype": "text/x-python",
   "name": "python",
   "nbconvert_exporter": "python",
   "pygments_lexer": "ipython3",
   "version": "3.11.5"
  }
 },
 "nbformat": 4,
 "nbformat_minor": 1
}
